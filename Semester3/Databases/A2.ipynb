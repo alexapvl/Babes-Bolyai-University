{
    "metadata": {
        "kernelspec": {
            "name": "SQL",
            "display_name": "SQL",
            "language": "sql"
        },
        "language_info": {
            "name": "sql",
            "version": ""
        }
    },
    "nbformat_minor": 2,
    "nbformat": 4,
    "cells": [
        {
            "cell_type": "code",
            "source": [
                "use f1_season_2024;"
            ],
            "metadata": {
                "azdata_cell_guid": "7bab4a74-17ee-4d16-b9e1-032f66a3108e",
                "language": "sql"
            },
            "outputs": [],
            "execution_count": null
        },
        {
            "cell_type": "code",
            "source": [
                "select * from constructor;"
            ],
            "metadata": {
                "azdata_cell_guid": "9dcac1f8-d23f-48bd-8c12-9c7550659a9c",
                "language": "sql"
            },
            "outputs": [],
            "execution_count": null
        },
        {
            "cell_type": "code",
            "source": [
                "INSERT INTO constructor (constructorId, constructorName, constructorCountry) VALUES\n",
                "(1, 'Mercedes', 'DEU'),\n",
                "(2, 'Honda Red Bull Powertrains', 'JPN'),\n",
                "(3, 'Ferrari', 'ITA'),\n",
                "(4, 'Renult', 'FRA');\n",
                ""
            ],
            "metadata": {
                "azdata_cell_guid": "25927ce8-6201-44fe-95ac-e3772979a190",
                "language": "sql"
            },
            "outputs": [],
            "execution_count": null
        },
        {
            "cell_type": "code",
            "source": [
                "select * from driver;"
            ],
            "metadata": {
                "azdata_cell_guid": "bdf66f4e-f2f1-482d-a2a4-afde229e9518",
                "language": "sql"
            },
            "outputs": [],
            "execution_count": null
        },
        {
            "cell_type": "code",
            "source": [
                "INSERT INTO team (teamId, constructorId, teamName, teamCountry) VALUES\n",
                "(1, 1, 'McLaren Mercedes', 'GBR'),\n",
                "(2, 2, 'Red Bull Racing Honda RBPT', 'AUT'),\n",
                "(3, 3, 'Ferrari', 'ITA'),\n",
                "(4, 1, 'Mercedes', 'DEU'),\n",
                "(5, 1, 'Aston Martin Aramco Mercedes', 'GBR'),\n",
                "(6, 3, 'Haas Ferrari', 'USA'),\n",
                "(7, 2, 'RB Honda RBPT', 'JPN'),\n",
                "(8, 1, 'Williams Mercedes', 'GBR'),\n",
                "(9, 4, 'Alpine Renault', 'FRA'),\n",
                "(10, 3, 'Kick Sauber Ferrari', 'CHE');\n",
                ""
            ],
            "metadata": {
                "azdata_cell_guid": "56412186-aad7-4a23-9727-e3fa382ab704",
                "language": "sql"
            },
            "outputs": [],
            "execution_count": null
        },
        {
            "cell_type": "code",
            "source": [
                "INSERT INTO driver (driverId, driverName, teamId, nationality, dateOfBirth) VALUES\n",
                "-- McLaren Mercedes (team_id: 1)\n",
                "(1, 'Lando Norris', 1, 'GBR', '1999-11-13'),\n",
                "(2, 'Oscar Piastri', 1, 'AUS', '2001-04-06'),\n",
                "\n",
                "-- Red Bull Racing Honda RBPT (team_id: 2)\n",
                "(3, 'Max Verstappen', 2, 'NED', '1997-09-30'),\n",
                "(4, 'Sergio Perez', 2, 'MEX', '1990-01-26'),\n",
                "\n",
                "-- Ferrari (team_id: 3)\n",
                "(5, 'Charles Leclerc', 3, 'MON', '1997-10-16'),\n",
                "(6, 'Carlos Sainz', 3, 'ESP', '1994-09-01'),\n",
                "\n",
                "-- Mercedes (team_id: 4)\n",
                "(7, 'Lewis Hamilton', 4, 'GBR', '1985-01-07'),\n",
                "(8, 'George Russell', 4, 'GBR', '1998-02-15'),\n",
                "\n",
                "-- Aston Martin Aramco Mercedes (team_id: 5)\n",
                "(9, 'Fernando Alonso', 5, 'ESP', '1981-07-29'),\n",
                "(10, 'Lance Stroll', 5, 'CAN', '1998-10-29'),\n",
                "\n",
                "-- Haas Ferrari (team_id: 6)\n",
                "(11, 'Nico Hulkenberg', 6, 'GER', '1987-08-19'),\n",
                "(12, 'Kevin Magnussen', 6, 'DEN', '1992-10-05'),\n",
                "(13, 'Oliver Bearman', 6, 'GBR', '2005-05-08'),\n",
                "\n",
                "-- RB Honda RBPT (team_id: 7)\n",
                "(14, 'Yuki Tsunoda', 7, 'JPN', '2000-05-11'),\n",
                "(15, 'Daniel Ricciardo', 7, 'AUS', '1989-07-01'),\n",
                "(16, 'Liam Lawson', 7, 'NZL', '2002-02-11'),\n",
                "\n",
                "-- Williams Mercedes (team_id: 8)\n",
                "(17, 'Alex Albon', 8, 'THA', '1996-03-23'),\n",
                "(18, 'Franco Colapinto', 8, 'ARG', '2003-05-27'),\n",
                "\n",
                "-- Alpine Renault (team_id: 9)\n",
                "(19, 'Pierre Gasly', 9, 'FRA', '1996-02-07'),\n",
                "(20, 'Esteban Ocon', 9, 'FRA', '1996-09-17'),\n",
                "\n",
                "-- Kick Sauber Ferrari (team_id: 10)\n",
                "(21, 'Zhou Guanyu', 10, 'CHN', '1999-05-30'),\n",
                "(22, 'Logan Sargeant', 10, 'USA', '2000-12-31'),\n",
                "(23, 'Valtteri Bottas', 10, 'FIN', '1989-08-28');\n",
                ""
            ],
            "metadata": {
                "azdata_cell_guid": "e70fb3f7-adee-48b3-9026-57ebf93c5847",
                "language": "sql",
                "tags": []
            },
            "outputs": [],
            "execution_count": null
        },
        {
            "cell_type": "code",
            "source": [
                "INSERT INTO driverChampionship (dchampionshipId, driverId, points) values \n",
                "(1, 1, 297),\n",
                "(2, 2, 247),\n",
                "\n",
                "(3, 3, 354),\n",
                "(4, 4, 150),\n",
                "\n",
                "(5, 5, 275),\n",
                "(6, 6, 215),\n",
                "\n",
                "(7, 7, 177),\n",
                "(8, 8, 167),\n",
                "\n",
                "(9, 9, 62),\n",
                "(10, 10, 24),\n",
                "\n",
                "(11, 11, 29),\n",
                "(12, 12, 8),\n",
                "(13, 13, 7),\n",
                "\n",
                "(14, 14, 22),\n",
                "(15, 15, 12),\n",
                "(16, 16, 2),\n",
                "\n",
                "(17, 17, 12),\n",
                "(18, 18, 5),\n",
                "\n",
                "(19, 19, 8),\n",
                "(20, 20, 5),\n",
                "\n",
                "(21, 21,  0),\n",
                "(22, 22, 0),\n",
                "(23, 23, 0);"
            ],
            "metadata": {
                "azdata_cell_guid": "a19e2feb-fed5-497c-907b-d357eb012342",
                "language": "sql"
            },
            "outputs": [],
            "execution_count": null
        },
        {
            "cell_type": "code",
            "source": [
                "INSERT INTO circuit (circuitId, circuitName, circuitCountry, lapLength) VALUES\n",
                "(1, 'Melbourne Grand Prix Circuit', 'AUS', 5.278),\n",
                "(2, 'Shanghai International Circuit', 'CHN', 5.451),\n",
                "(3, 'Suzuka International Racing Course', 'JPN', 5.807),\n",
                "(4, 'Bahrain International Circuit', 'BHR', 5.412),\n",
                "(5, 'Jeddah Street Circuit', 'SAU', 6.174),\n",
                "(6, 'Miami International Autodrome', 'USA', 5.412),\n",
                "(7, 'Imola Circuit', 'ITA', 4.909),\n",
                "(8, 'Circuit de Monaco', 'MCO', 3.337),\n",
                "(9, 'Circuit de Barcelona-Catalunya', 'ESP', 4.657),\n",
                "(10, 'Circuit Gilles Villeneuve', 'CAN', 4.361),\n",
                "(11, 'Red Bull Ring', 'AUT', 4.318),\n",
                "(12, 'Silverstone Circuit', 'GBR', 5.891),\n",
                "(13, 'Circuit de Spa-Francorchamps', 'BEL', 7.004),\n",
                "(14, 'Hungaroring', 'HUN', 4.381),\n",
                "(15, 'Circuit Zandvoort', 'NED', 4.259),\n",
                "(16, 'Autodromo Nazionale Monza', 'ITA', 5.793),\n",
                "(17, 'Baku City Circuit', 'AZE', 6.003),\n",
                "(18, 'Marina Bay Street Circuit', 'SGP', 4.940),\n",
                "(19, 'Circuit of the Americas', 'USA', 5.513),\n",
                "(20, 'Autódromo Hermanos Rodríguez', 'MEX', 4.304),\n",
                "(21, 'Interlagos Circuit', 'BRA', 4.309),\n",
                "(22, 'Las Vegas Street Circuit', 'USA', 6.201),\n",
                "(23, 'Lusail International Circuit', 'QAT', 5.419),\n",
                "(24, 'Yas Marina Circuit', 'UAE', 5.281);"
            ],
            "metadata": {
                "azdata_cell_guid": "959312cb-9551-47e8-8f85-a08f4b50873a",
                "language": "sql"
            },
            "outputs": [],
            "execution_count": null
        },
        {
            "cell_type": "code",
            "source": [
                "INSERT INTO race (raceId, circuitId, raceDate, numberOfLaps) VALUES\n",
                "(1, 1, '2024-03-24', 58),  -- Melbourne\n",
                "(2, 2, '2024-04-21', 56),  -- Shanghai\n",
                "(3, 3, '2024-04-07', 53),  -- Suzuka\n",
                "(4, 4, '2024-03-02', 57),  -- Bahrain\n",
                "(5, 5, '2024-03-09', 50),  -- Jeddah\n",
                "(6, 6, '2024-05-05', 57),  -- Miami\n",
                "(7, 7, '2024-05-19', 63),  -- Imola\n",
                "(8, 8, '2024-05-26', 78),  -- Monaco\n",
                "(9, 9, '2024-06-23', 66),  -- Barcelona\n",
                "(10, 10, '2024-06-09', 70), -- Montreal\n",
                "(11, 11, '2024-06-30', 71), -- Spielberg\n",
                "(12, 12, '2024-07-07', 52), -- Silverstone\n",
                "(13, 13, '2024-07-28', 44), -- Spa\n",
                "(14, 14, '2024-07-21', 70), -- Budapest\n",
                "(15, 15, '2024-08-25', 72), -- Zandvoort\n",
                "(16, 16, '2024-09-01', 53), -- Monza\n",
                "(17, 17, '2024-09-15', 51), -- Baku\n",
                "(18, 18, '2024-09-22', 62), -- Singapore\n",
                "(19, 19, '2024-10-20', 56), -- Austin\n",
                "(20, 20, '2024-10-27', 71), -- Mexico City\n",
                "(21, 21, '2024-11-03', 71), -- Sao Paulo\n",
                "(22, 22, '2024-11-24', 50), -- Las Vegas\n",
                "(23, 23, '2024-12-01', 57), -- Lusail\n",
                "(24, 24, '2024-12-08', 58); -- Yas Marina\n",
                ""
            ],
            "metadata": {
                "azdata_cell_guid": "d21edc70-1863-4420-b218-bde71bfa9da7",
                "language": "sql"
            },
            "outputs": [],
            "execution_count": null
        },
        {
            "cell_type": "code",
            "source": [
                "INSERT INTO sponsor (sponsorId, sponsorName, sponsorCountry) VALUES\n",
                "(1, 'Petronas', 'MYS'),\n",
                "(2, 'Shell', 'NLD'),\n",
                "(3, 'Red Bull', 'AUT'),\n",
                "(4, 'Hilton', 'USA'),\n",
                "(5, 'Cognizant', 'USA');\n",
                ""
            ],
            "metadata": {
                "language": "sql",
                "azdata_cell_guid": "e2e57c5a-4d78-4de5-bc9b-6cf3a3240760"
            },
            "outputs": [],
            "execution_count": null
        },
        {
            "cell_type": "code",
            "source": [
                "INSERT INTO sponsorship (sponsorshipId, teamId, sponsorId) VALUES\n",
                "(1, 1, 1), -- Mercedes AMG Petronas and Petronas\n",
                "(2, 2, 2), -- Scuderia Ferrari and Shell\n",
                "(3, 3, 3), -- Red Bull Racing and Red Bull\n",
                "(4, 4, 4), -- McLaren Racing and Hilton\n",
                "(5, 5, 5); -- Aston Martin Cognizant and Cognizant\n",
                ""
            ],
            "metadata": {
                "language": "sql",
                "azdata_cell_guid": "f0500e97-3bb5-4a93-8292-c4b9f51b2435"
            },
            "outputs": [],
            "execution_count": null
        },
        {
            "cell_type": "code",
            "source": [
                "-- Inserts for the Sao Paulo Grand Prix, raceId = 21\n",
                "INSERT INTO result (resultId, raceId, driverId, placement) VALUES\n",
                "(1, 21, 3, 1),  -- Max Verstappen, 1st place\n",
                "(2, 21, 20, 2), -- Esteban Ocon, 2nd place\n",
                "(3, 21, 19, 3), -- Pierre Gasly, 3rd place\n",
                "(4, 21, 8, 4),  -- George Russell, 4th place\n",
                "(5, 21, 5, 5),  -- Charles Leclerc, 5th place\n",
                "(6, 21, 1, 6),  -- Lando Norris, 6th place\n",
                "(7, 21, 14, 7), -- Yuki Tsunoda, 7th place\n",
                "(8, 21, 2, 8),  -- Oscar Piastri, 8th place\n",
                "(9, 21, 16, 9), -- Liam Lawson, 9th place\n",
                "(10, 21, 7, 10), -- Lewis Hamilton, 10th place\n",
                "(11, 21, 4, 11), -- Sergio Perez, 11th place\n",
                "(12, 21, 13, 12),-- Oliver Bearman, 12th place\n",
                "(13, 21, 23, 13),-- Valtteri Bottas, 13th place\n",
                "(14, 21, 9, 14), -- Fernando Alonso, 14th place\n",
                "(15, 21, 21, 15);-- Zhou Guanyu, 15th place\n",
                ""
            ],
            "metadata": {
                "language": "sql",
                "azdata_cell_guid": "ca8a2f7f-8199-47de-9164-621af570fc07"
            },
            "outputs": [],
            "execution_count": null
        },
        {
            "cell_type": "markdown",
            "source": [
                "Now we begin with the real statements"
            ],
            "metadata": {
                "azdata_cell_guid": "7f9c036e-511a-48e9-b387-b565e71bd76e"
            },
            "attachments": {}
        },
        {
            "cell_type": "markdown",
            "source": [
                "a) 2 queries with the union operation; use UNION [ALL] and OR"
            ],
            "metadata": {
                "azdata_cell_guid": "d58a2b94-2efb-4fc3-abcd-b1c1c2421364",
                "language": ""
            },
            "attachments": {}
        },
        {
            "cell_type": "code",
            "source": [
                "-- Union with UNION: Retrieve constructors from the Germany or teams from Australia.\n",
                "SELECT constructorName AS name, constructorCountry AS country FROM constructor WHERE constructorCountry = 'DEU'\n",
                "UNION\n",
                "SELECT teamName AS name, teamCountry AS country FROM team WHERE teamCountry = 'AUT';\n",
                ""
            ],
            "metadata": {
                "azdata_cell_guid": "36482ebd-3a56-4d53-a7de-f60070c1ae3e",
                "language": "sql",
                "tags": []
            },
            "outputs": [],
            "execution_count": null
        },
        {
            "cell_type": "code",
            "source": [
                "-- Union with UNION ALL and OR: Retrieve all drivers with nationality either 'GBR' or 'CAN'.\n",
                "SELECT driverName FROM driver WHERE nationality = 'GBR'\n",
                "UNION ALL\n",
                "SELECT driverName FROM driver WHERE nationality = 'CAN';"
            ],
            "metadata": {
                "azdata_cell_guid": "d9a157a1-31d6-43f8-ac22-30146037df12",
                "language": "sql"
            },
            "outputs": [],
            "execution_count": null
        },
        {
            "cell_type": "markdown",
            "source": [
                "b) 2 queries with the intersection operation; use INTERSECT and IN"
            ],
            "metadata": {
                "azdata_cell_guid": "807c2c67-0c5d-44b9-932e-baf5d250b3bd"
            },
            "attachments": {}
        },
        {
            "cell_type": "code",
            "source": [
                "-- Intersection using INTERSECT: Find the countries in which constructors as well as teams.\n",
                "SELECT constructorCountry FROM constructor\n",
                "INTERSECT\n",
                "SELECT teamCountry FROM team;\n",
                ""
            ],
            "metadata": {
                "azdata_cell_guid": "b2758845-96a0-4d87-a2e2-dee96b0ae9b2",
                "language": "sql"
            },
            "outputs": [],
            "execution_count": null
        },
        {
            "cell_type": "code",
            "source": [
                "-- Intersection using IN: Find teams whose constructor is listed among constructors from Japan or Germany.\n",
                "SELECT teamName FROM team WHERE constructorId IN (\n",
                "    SELECT constructorId FROM constructor WHERE constructorCountry IN ('JPN', 'DEU')\n",
                ");\n",
                ""
            ],
            "metadata": {
                "azdata_cell_guid": "909381a1-a0d8-4cb1-b38c-ec93fd08a8c3",
                "language": "sql",
                "tags": [
                    "hide_input"
                ]
            },
            "outputs": [],
            "execution_count": null
        },
        {
            "cell_type": "markdown",
            "source": [
                "c) 2 queries with the difference operation; use EXCEPT and NOT IN"
            ],
            "metadata": {
                "azdata_cell_guid": "22fc9cd4-6c95-4f31-bffc-54291112d52c"
            },
            "attachments": {}
        },
        {
            "cell_type": "code",
            "source": [
                "-- Difference using EXCEPT: Retrieve all circuits in which the race is held NOT in March.\n",
                "SELECT circuit.circuitId, circuit.circuitName FROM circuit\n",
                "EXCEPT\n",
                "SELECT race.circuitId, circuit.circuitName FROM race\n",
                "JOIN circuit ON MONTH(race.raceDate) = 3;\n",
                "\n",
                ""
            ],
            "metadata": {
                "azdata_cell_guid": "f3bed206-e14d-42b3-9469-37306b56f151",
                "language": "sql"
            },
            "outputs": [],
            "execution_count": null
        },
        {
            "cell_type": "code",
            "source": [
                "-- Difference using NOT IN: List all drivers which are not french.\n",
                "\n",
                "SELECT driverId, driverName FROM driver WHERE nationality NOT IN (\n",
                "    SELECT nationality FROM driver WHERE nationality = 'FRA'\n",
                ");\n",
                ""
            ],
            "metadata": {
                "azdata_cell_guid": "76855a28-09c3-4b43-8bd7-c0a99437371c",
                "language": "sql"
            },
            "outputs": [],
            "execution_count": null
        },
        {
            "cell_type": "markdown",
            "source": [
                "d) 4 queries with INENR JOIN, LEFT JOIN, RIGHT JOIN, and FULL JOIN(one query per operator);  \n",
                "one query will join at lead 3 tables, while another one will join at leas two many-to-many relationships;"
            ],
            "metadata": {
                "azdata_cell_guid": "75d6dbfa-afd5-47a7-bc81-57aa4df52ef5"
            },
            "attachments": {}
        },
        {
            "cell_type": "code",
            "source": [
                "-- INNER JOIN: Combine drivers and their teams.\n",
                "SELECT driver.driverName, team.teamName\n",
                "FROM driver\n",
                "INNER JOIN team ON driver.teamId = team.teamId;\n",
                ""
            ],
            "metadata": {
                "azdata_cell_guid": "1a83b52b-e7ba-404c-b8c1-ef174fa20a09",
                "language": "sql",
                "tags": []
            },
            "outputs": [],
            "execution_count": null
        },
        {
            "cell_type": "code",
            "source": [
                "-- LEFT JOIN: List all teams paired with circuits if they have the same id (joins 3 tables)\n",
                "SELECT team.teamName, circuit.circuitName\n",
                "FROM team\n",
                "LEFT JOIN race ON team.teamId = race.raceId\n",
                "LEFT JOIN circuit ON race.circuitId = circuit.circuitId;\n",
                ""
            ],
            "metadata": {
                "azdata_cell_guid": "60f82188-dff0-40b0-aa70-542e33b5b562",
                "language": "sql"
            },
            "outputs": [],
            "execution_count": null
        },
        {
            "cell_type": "code",
            "source": [
                "-- RIGHT JOIN: Get all drivers which are british and their corresponding teams\n",
                "SELECT driver.driverName, team.teamName FROM team\n",
                "RIGHT JOIN driver ON driver.teamId = team.teamId\n",
                "WHERE driver.nationality = 'GBR';\n",
                ""
            ],
            "metadata": {
                "azdata_cell_guid": "69f71eaa-b1a7-42d6-8162-5848c5ad471b",
                "language": "sql",
                "tags": []
            },
            "outputs": [],
            "execution_count": null
        },
        {
            "cell_type": "code",
            "source": [
                "-- FULL JOIN: Combine the race results and sponsorships (many to many with many to many)\n",
                "SELECT\n",
                "    result.resultId,\n",
                "    result.raceId,\n",
                "    result.driverId,\n",
                "    result.placement,\n",
                "    sponsorship.sponsorshipId,\n",
                "    sponsorship.sponsorId,\n",
                "    sponsorship.teamId\n",
                "FROM result\n",
                "FULL JOIN sponsorship ON result.resultId = sponsorship.sponsorshipId\n",
                "ORDER BY result.resultId;"
            ],
            "metadata": {
                "azdata_cell_guid": "68117341-c400-44b0-b19c-96cc4f61c33f",
                "language": "sql"
            },
            "outputs": [],
            "execution_count": null
        },
        {
            "cell_type": "markdown",
            "source": [
                "e) 2 queries with the IN operator and a subquery in the WHERE clause;\n",
                "\n",
                "<span style=\"font-family: -apple-system, BlinkMacSystemFont, sans-serif; color: var(--vscode-foreground);\">in at least one case, the subquery must include a subquery in its own WHERE clause;</span>"
            ],
            "metadata": {
                "azdata_cell_guid": "069ba292-7fd7-4043-a499-a047349b75e9"
            },
            "attachments": {}
        },
        {
            "cell_type": "code",
            "source": [
                "-- IN with subquery: List drivers in teams from Italy.\n",
                "SELECT driverName FROM driver WHERE teamId IN (\n",
                "    SELECT teamId FROM team WHERE teamCountry = 'ITA'\n",
                ");\n",
                ""
            ],
            "metadata": {
                "azdata_cell_guid": "9e9690e5-82cb-4d59-8966-e45948910bb0",
                "language": "sql"
            },
            "outputs": [],
            "execution_count": null
        },
        {
            "cell_type": "code",
            "source": [
                "-- IN with subquery containing subquery: Selects the driver names from the constructors which are italian\n",
                "SELECT driverName \n",
                "FROM driver \n",
                "WHERE teamId IN (\n",
                "    SELECT teamId \n",
                "    FROM team \n",
                "    WHERE constructorId IN (\n",
                "        SELECT constructorId \n",
                "        FROM constructor \n",
                "        WHERE constructorCountry = 'ITA'\n",
                "    )\n",
                ");\n",
                ""
            ],
            "metadata": {
                "azdata_cell_guid": "4911d5ca-dba5-4707-a176-f530cec04a2a",
                "language": "sql"
            },
            "outputs": [],
            "execution_count": null
        },
        {
            "cell_type": "markdown",
            "source": [
                "f) <span style=\"font-family: -apple-system, BlinkMacSystemFont, sans-serif; color: var(--vscode-foreground);\">2 queries with the EXISTS operator and a subquery in the WHERE clause;</span>"
            ],
            "metadata": {
                "azdata_cell_guid": "f3927de6-3535-44ad-a57b-f1ae6cd835aa"
            },
            "attachments": {}
        },
        {
            "cell_type": "code",
            "source": [
                "-- EXISTS with subquery: Find drivers who participated in any race.\n",
                "SELECT driverName FROM driver WHERE EXISTS (\n",
                "    SELECT race.circuitId FROM race WHERE driver.teamId = race.circuitId\n",
                ");\n",
                ""
            ],
            "metadata": {
                "azdata_cell_guid": "8d624fd4-ada9-49b1-9aac-05a184497f68",
                "language": "sql"
            },
            "outputs": [],
            "execution_count": null
        },
        {
            "cell_type": "code",
            "source": [
                "-- EXISTS with subquery: List races with a circuit longer than 5.5 km.\n",
                "SELECT raceDate \n",
                "FROM race \n",
                "WHERE EXISTS (\n",
                "    SELECT circuit.circuitId \n",
                "    FROM circuit \n",
                "    WHERE circuit.circuitId = race.circuitId \n",
                "    AND circuit.lapLength > 5.5\n",
                ");\n",
                "\n",
                ""
            ],
            "metadata": {
                "azdata_cell_guid": "f17e4676-693f-4cef-b242-8f57f43c2557",
                "language": "sql"
            },
            "outputs": [],
            "execution_count": null
        },
        {
            "cell_type": "markdown",
            "source": [
                "g) <span style=\"font-family: -apple-system, BlinkMacSystemFont, sans-serif; color: var(--vscode-foreground);\">2 queries with a subquery in the FROM clause;&nbsp;</span>"
            ],
            "metadata": {
                "azdata_cell_guid": "305fcb49-103a-4ce1-8665-836c57e600a6"
            },
            "attachments": {}
        },
        {
            "cell_type": "code",
            "source": [
                "-- Calculate the total points for each driver:\n",
                "SELECT driverId, SUM(points) AS total_points\n",
                "FROM driverChampionship\n",
                "GROUP BY driverId;\n",
                ""
            ],
            "metadata": {
                "azdata_cell_guid": "6c0ba440-d426-4e22-bb25-cc2320d7c312",
                "language": "sql",
                "tags": []
            },
            "outputs": [],
            "execution_count": null
        },
        {
            "cell_type": "code",
            "source": [
                "-- Find the number of races run on circuits longer than a specific length:\n",
                "SELECT COUNT(*) AS race_count\n",
                "FROM race\n",
                "JOIN circuit ON race.circuitId = circuit.circuitId\n",
                "WHERE circuit.lapLength > 4.9;\n",
                ""
            ],
            "metadata": {
                "azdata_cell_guid": "30d899f1-e3f5-4b48-919f-c017a88a1f0b",
                "language": "sql"
            },
            "outputs": [],
            "execution_count": null
        },
        {
            "cell_type": "markdown",
            "source": [
                "h) 4 queries with the GROUP BY clause, 3 of which also contain the HAVING clause; 2 of the latter will also have a subquery in the HAVING clause; use the aggregation operators: COUNT, SUM, AVG, MIN, MAX;"
            ],
            "metadata": {
                "azdata_cell_guid": "24ea2367-f17e-4751-9869-5e6a2b427864"
            },
            "attachments": {}
        },
        {
            "cell_type": "code",
            "source": [
                "-- GROUP BY with COUNT: Count drivers in each team.\n",
                "SELECT teamId, COUNT(driverId) AS driver_count\n",
                "FROM driver\n",
                "GROUP BY teamId;\n",
                ""
            ],
            "metadata": {
                "azdata_cell_guid": "ac440d90-0447-4f0e-b649-d0929fcf861e",
                "language": "sql"
            },
            "outputs": [],
            "execution_count": null
        },
        {
            "cell_type": "code",
            "source": [
                "-- GROUP BY with HAVING: Teams with more than 2 drivers.\n",
                "SELECT teamId, COUNT(driverId) AS driver_count\n",
                "FROM driver\n",
                "GROUP BY teamId\n",
                "HAVING COUNT(driverId) > 2;\n",
                ""
            ],
            "metadata": {
                "azdata_cell_guid": "4fd59bff-733f-431d-8a6b-09b80b36624a",
                "language": "sql"
            },
            "outputs": [],
            "execution_count": null
        },
        {
            "cell_type": "code",
            "source": [
                "-- GROUP BY with HAVING and subquery: Teams where average points are greater than the overall average.\n",
                "SELECT team.teamName, AVG(driverChampionship.points) AS avg_points\n",
                "FROM driver\n",
                "JOIN team ON driver.teamId = team.teamId\n",
                "JOIN driverChampionship ON driver.driverId = driverChampionship.driverId\n",
                "GROUP BY team.teamName\n",
                "HAVING AVG(driverChampionship.points) > (\n",
                "    SELECT AVG(points) FROM driverChampionship\n",
                ");\n",
                ""
            ],
            "metadata": {
                "azdata_cell_guid": "115985d4-83bc-4953-839f-dca7ac071cfa",
                "language": "sql"
            },
            "outputs": [],
            "execution_count": null
        },
        {
            "cell_type": "code",
            "source": [
                "-- GROUP BY with HAVING and subquery: Circuits where the number of races is (more/less/equal) than the average. obs now will work only equal since we have only one race in the db\n",
                "SELECT circuit.circuitName, COUNT(race.raceId) AS race_count\n",
                "FROM circuit\n",
                "JOIN race ON circuit.circuitId = race.circuitId\n",
                "GROUP BY circuit.circuitName\n",
                "HAVING COUNT(race.raceId) = (\n",
                "    SELECT AVG(race_count) FROM (\n",
                "        SELECT COUNT(raceId) as race_count\n",
                "        FROM race \n",
                "        GROUP BY circuitId\n",
                "    ) subquery\n",
                ");\n",
                ""
            ],
            "metadata": {
                "azdata_cell_guid": "1707389f-51c8-43c9-a8da-2dfc4e73b6df",
                "language": "sql"
            },
            "outputs": [],
            "execution_count": null
        },
        {
            "cell_type": "markdown",
            "source": [
                "i) <span style=\"font-family: -apple-system, BlinkMacSystemFont, sans-serif; color: var(--vscode-foreground);\">4 queries using ANY and ALL to introduce a subquery in the WHERE clause (2 queries per operator); rewrite 2 of them with aggregation operators, and the other 2 with IN / [NOT] IN.</span>"
            ],
            "metadata": {
                "azdata_cell_guid": "6e0ef9ff-613c-4109-b732-2597e35a467a"
            },
            "attachments": {}
        },
        {
            "cell_type": "code",
            "source": [
                "-- Use of ANY: Select drivers with more points than any driver from the team 'Ferrari'. - here we get also leclecr bcs he has more points than sainz\n",
                "SELECT driverId FROM driverChampionship WHERE points > ANY (\n",
                "    SELECT points FROM driverChampionship\n",
                "    WHERE driverId IN (SELECT driverId FROM driver WHERE teamId = (SELECT teamId FROM team WHERE teamName = 'Ferrari'))\n",
                ");\n",
                ""
            ],
            "metadata": {
                "azdata_cell_guid": "d4afd0cd-9c1a-4b0c-8cc9-1530b751b98b",
                "language": "sql"
            },
            "outputs": [],
            "execution_count": null
        },
        {
            "cell_type": "code",
            "source": [
                "-- Use of ALL: Find drivers with points less than all drivers from 'Mercedes'.\n",
                "SELECT driverId FROM driverChampionship WHERE points < ALL (\n",
                "    SELECT points FROM driverChampionship\n",
                "    WHERE driverId IN (SELECT driverId FROM driver WHERE teamId = (SELECT teamId FROM team WHERE teamName = 'Mercedes'))\n",
                ");\n",
                ""
            ],
            "metadata": {
                "azdata_cell_guid": "e9b5282c-d8e1-4704-9004-c63f7eacb64f",
                "language": "sql"
            },
            "outputs": [],
            "execution_count": null
        },
        {
            "cell_type": "code",
            "source": [
                "-- Rewrite ANY using aggregation:\n",
                "SELECT driverId FROM driverChampionship WHERE points > (\n",
                "    SELECT MIN(points) FROM driverChampionship\n",
                "    WHERE driverId IN (SELECT driverId FROM driver WHERE teamId = (SELECT teamId FROM team WHERE teamName = 'Ferrari'))\n",
                ");\n",
                ""
            ],
            "metadata": {
                "azdata_cell_guid": "a1ab7d6e-30f1-4c45-8797-a90e3cd3986d",
                "language": "sql"
            },
            "outputs": [],
            "execution_count": null
        },
        {
            "cell_type": "code",
            "source": [
                "-- Rewrite ALL using aggregation:\n",
                "SELECT driverId FROM driverChampionship WHERE points < (\n",
                "    SELECT MAX(points) FROM driverChampionship\n",
                "    WHERE driverId IN (SELECT driverId FROM driver WHERE teamId = (SELECT teamId FROM team WHERE teamName = 'Mercedes'))\n",
                ");\n",
                ""
            ],
            "metadata": {
                "azdata_cell_guid": "dd11bcfd-92bd-4787-9f10-6219fab205a4",
                "language": "sql"
            },
            "outputs": [],
            "execution_count": null
        },
        {
            "cell_type": "code",
            "source": [
                "-- Rewrite ANY using IN: select driverIds from the driverChampionship table where the points match any points tallied by drivers who are part of the 'Ferrari' team.\n",
                "SELECT driverId FROM driverChampionship WHERE points IN (\n",
                "    SELECT points FROM driverChampionship\n",
                "    WHERE driverId IN (SELECT driverId FROM driver WHERE teamId = (SELECT teamId FROM team WHERE teamName = 'Ferrari'))\n",
                ");\n",
                ""
            ],
            "metadata": {
                "azdata_cell_guid": "a61e6207-05c5-4a2c-8b47-79d7469b444a",
                "language": "sql"
            },
            "outputs": [],
            "execution_count": null
        },
        {
            "cell_type": "code",
            "source": [
                "-- Rewrite ALL using NOT IN: select driverIds from the driverChampionship table where each driverId has a points total that is NOT matched by any driver from the 'Mercedes' team\n",
                "SELECT driverId FROM driverChampionship WHERE points NOT IN (\n",
                "    SELECT points FROM driverChampionship\n",
                "    WHERE driverId IN (SELECT driverId FROM driver WHERE teamId = (SELECT teamId FROM team WHERE teamName = 'Mercedes'))\n",
                ");\n",
                ""
            ],
            "metadata": {
                "azdata_cell_guid": "23f1d822-0edc-4327-9e51-66f933c0062d",
                "language": "sql"
            },
            "outputs": [],
            "execution_count": null
        },
        {
            "cell_type": "markdown",
            "source": [
                "Other"
            ],
            "metadata": {
                "azdata_cell_guid": "f409505f-88df-49a8-9ca8-b740a306e37b"
            },
            "attachments": {}
        },
        {
            "cell_type": "code",
            "source": [
                "-- Arithmetic expressions:\n",
                "SELECT driverId, (points * 1.05) AS adjusted_points FROM driverChampionship; \n",
                ""
            ],
            "metadata": {
                "azdata_cell_guid": "284ec3e0-2238-4a80-b2f5-6ef59051a934",
                "language": "sql"
            },
            "outputs": [],
            "execution_count": null
        },
        {
            "cell_type": "code",
            "source": [
                "-- Distinct:\n",
                "SELECT DISTINCT nationality FROM driver ORDER BY nationality;\n",
                ""
            ],
            "metadata": {
                "azdata_cell_guid": "58af8fc9-0592-4906-aa40-888c1606e134",
                "language": "sql"
            },
            "outputs": [],
            "execution_count": null
        },
        {
            "cell_type": "code",
            "source": [
                "-- Order by:\n",
                "SELECT driverName, DATEDIFF(year, dateOfBirth, GETDATE()) as age FROM driver ORDER BY age ASC;\n",
                ""
            ],
            "metadata": {
                "azdata_cell_guid": "4b57296a-65f9-4b26-9116-a8bf8bc726fe",
                "language": "sql",
                "tags": []
            },
            "outputs": [],
            "execution_count": null
        },
        {
            "cell_type": "code",
            "source": [
                "-- Top:\n",
                "SELECT driver.driverName \n",
                "FROM driver \n",
                "WHERE driver.driverId IN (\n",
                "    SELECT TOP 5 driverId \n",
                "    FROM driverChampionship \n",
                ")\n",
                "ORDER BY (\n",
                "    SELECT points \n",
                "    FROM driverChampionship \n",
                "    WHERE driverChampionship.driverId = driver.driverId\n",
                ") DESC;\n",
                ""
            ],
            "metadata": {
                "azdata_cell_guid": "c3130049-089c-450a-98ae-433cffdec364",
                "language": "sql"
            },
            "outputs": [],
            "execution_count": null
        }
    ]
}