{
    "metadata": {
        "kernelspec": {
            "name": "SQL",
            "display_name": "SQL",
            "language": "sql"
        },
        "language_info": {
            "name": "sql",
            "version": ""
        }
    },
    "nbformat_minor": 2,
    "nbformat": 4,
    "cells": [
        {
            "cell_type": "code",
            "source": [
                "use f1_season_2024;"
            ],
            "metadata": {
                "azdata_cell_guid": "7bab4a74-17ee-4d16-b9e1-032f66a3108e",
                "language": "sql"
            },
            "outputs": [],
            "execution_count": null
        },
        {
            "cell_type": "code",
            "source": [
                "select * from constructor;"
            ],
            "metadata": {
                "azdata_cell_guid": "9dcac1f8-d23f-48bd-8c12-9c7550659a9c",
                "language": "sql"
            },
            "outputs": [],
            "execution_count": null
        },
        {
            "cell_type": "code",
            "source": [
                "INSERT INTO constructor (constructorId, constructorName, constructorCountry) VALUES\n",
                "(1, 'Mercedes', 'DEU'),\n",
                "(2, 'Honda Red Bull Powertrains', 'JPN'),\n",
                "(3, 'Ferrari', 'ITA'),\n",
                "(4, 'Renult', 'FRA');\n",
                ""
            ],
            "metadata": {
                "azdata_cell_guid": "25927ce8-6201-44fe-95ac-e3772979a190",
                "language": "sql"
            },
            "outputs": [],
            "execution_count": null
        },
        {
            "cell_type": "code",
            "source": [
                "select * from driver;"
            ],
            "metadata": {
                "azdata_cell_guid": "bdf66f4e-f2f1-482d-a2a4-afde229e9518",
                "language": "sql"
            },
            "outputs": [],
            "execution_count": null
        },
        {
            "cell_type": "code",
            "source": [
                "INSERT INTO team (teamId, constructorId, teamName, teamCountry) VALUES\n",
                "(1, 1, 'McLaren Mercedes', 'GBR'),\n",
                "(2, 2, 'Red Bull Racing Honda RBPT', 'AUT'),\n",
                "(3, 3, 'Ferrari', 'ITA'),\n",
                "(4, 1, 'Mercedes', 'DEU'),\n",
                "(5, 1, 'Aston Martin Aramco Mercedes', 'GBR'),\n",
                "(6, 3, 'Haas Ferrari', 'USA'),\n",
                "(7, 2, 'RB Honda RBPT', 'JPN'),\n",
                "(8, 1, 'Williams Mercedes', 'GBR'),\n",
                "(9, 4, 'Alpine Renault', 'FRA'),\n",
                "(10, 3, 'Kick Sauber Ferrari', 'CHE');\n",
                ""
            ],
            "metadata": {
                "azdata_cell_guid": "56412186-aad7-4a23-9727-e3fa382ab704",
                "language": "sql"
            },
            "outputs": [],
            "execution_count": null
        },
        {
            "cell_type": "code",
            "source": [
                "INSERT INTO driver (driverId, driverName, teamId, nationality, dateOfBirth) VALUES\n",
                "-- McLaren Mercedes (team_id: 1)\n",
                "(1, 'Lando Norris', 1, 'GBR', '1999-11-13'),\n",
                "(2, 'Oscar Piastri', 1, 'AUS', '2001-04-06'),\n",
                "\n",
                "-- Red Bull Racing Honda RBPT (team_id: 2)\n",
                "(3, 'Max Verstappen', 2, 'NED', '1997-09-30'),\n",
                "(4, 'Sergio Perez', 2, 'MEX', '1990-01-26'),\n",
                "\n",
                "-- Ferrari (team_id: 3)\n",
                "(5, 'Charles Leclerc', 3, 'MON', '1997-10-16'),\n",
                "(6, 'Carlos Sainz', 3, 'ESP', '1994-09-01'),\n",
                "\n",
                "-- Mercedes (team_id: 4)\n",
                "(7, 'Lewis Hamilton', 4, 'GBR', '1985-01-07'),\n",
                "(8, 'George Russell', 4, 'GBR', '1998-02-15'),\n",
                "\n",
                "-- Aston Martin Aramco Mercedes (team_id: 5)\n",
                "(9, 'Fernando Alonso', 5, 'ESP', '1981-07-29'),\n",
                "(10, 'Lance Stroll', 5, 'CAN', '1998-10-29'),\n",
                "\n",
                "-- Haas Ferrari (team_id: 6)\n",
                "(11, 'Nico Hulkenberg', 6, 'GER', '1987-08-19'),\n",
                "(12, 'Kevin Magnussen', 6, 'DEN', '1992-10-05'),\n",
                "(13, 'Oliver Bearman', 6, 'GBR', '2005-05-08'),\n",
                "\n",
                "-- RB Honda RBPT (team_id: 7)\n",
                "(14, 'Yuki Tsunoda', 7, 'JPN', '2000-05-11'),\n",
                "(15, 'Daniel Ricciardo', 7, 'AUS', '1989-07-01'),\n",
                "(16, 'Liam Lawson', 7, 'NZL', '2002-02-11'),\n",
                "\n",
                "-- Williams Mercedes (team_id: 8)\n",
                "(17, 'Alex Albon', 8, 'THA', '1996-03-23'),\n",
                "(18, 'Franco Colapinto', 8, 'ARG', '2003-05-27'),\n",
                "\n",
                "-- Alpine Renault (team_id: 9)\n",
                "(19, 'Pierre Gasly', 9, 'FRA', '1996-02-07'),\n",
                "(20, 'Esteban Ocon', 9, 'FRA', '1996-09-17'),\n",
                "\n",
                "-- Kick Sauber Ferrari (team_id: 10)\n",
                "(21, 'Zhou Guanyu', 10, 'CHN', '1999-05-30'),\n",
                "(22, 'Logan Sargeant', 10, 'USA', '2000-12-31'),\n",
                "(23, 'Valtteri Bottas', 10, 'FIN', '1989-08-28');\n",
                ""
            ],
            "metadata": {
                "azdata_cell_guid": "e70fb3f7-adee-48b3-9026-57ebf93c5847",
                "language": "sql",
                "tags": []
            },
            "outputs": [],
            "execution_count": null
        },
        {
            "cell_type": "code",
            "source": [
                "INSERT INTO driverChampionship (dchampionshipId, driverId, points) values \n",
                "(1, 1, 297),\n",
                "(2, 2, 247),\n",
                "\n",
                "(3, 3, 354),\n",
                "(4, 4, 150),\n",
                "\n",
                "(5, 5, 275),\n",
                "(6, 6, 215),\n",
                "\n",
                "(7, 7, 177),\n",
                "(8, 8, 167),\n",
                "\n",
                "(9, 9, 62),\n",
                "(10, 10, 24),\n",
                "\n",
                "(11, 11, 29),\n",
                "(12, 12, 8),\n",
                "(13, 13, 7),\n",
                "\n",
                "(14, 14, 22),\n",
                "(15, 15, 12),\n",
                "(16, 16, 2),\n",
                "\n",
                "(17, 17, 12),\n",
                "(18, 18, 5),\n",
                "\n",
                "(19, 19, 8),\n",
                "(20, 20, 5),\n",
                "\n",
                "(21, 21,  0),\n",
                "(22, 22, 0),\n",
                "(23, 23, 0);"
            ],
            "metadata": {
                "azdata_cell_guid": "a19e2feb-fed5-497c-907b-d357eb012342",
                "language": "sql"
            },
            "outputs": [],
            "execution_count": null
        },
        {
            "cell_type": "code",
            "source": [
                "INSERT INTO circuit (circuitId, circuitName, circuitCountry, lapLength) VALUES\n",
                "(1, 'Melbourne Grand Prix Circuit', 'AUS', 5.278),\n",
                "(2, 'Shanghai International Circuit', 'CHN', 5.451),\n",
                "(3, 'Suzuka International Racing Course', 'JPN', 5.807),\n",
                "(4, 'Bahrain International Circuit', 'BHR', 5.412),\n",
                "(5, 'Jeddah Street Circuit', 'SAU', 6.174),\n",
                "(6, 'Miami International Autodrome', 'USA', 5.412),\n",
                "(7, 'Imola Circuit', 'ITA', 4.909),\n",
                "(8, 'Circuit de Monaco', 'MCO', 3.337),\n",
                "(9, 'Circuit de Barcelona-Catalunya', 'ESP', 4.657),\n",
                "(10, 'Circuit Gilles Villeneuve', 'CAN', 4.361),\n",
                "(11, 'Red Bull Ring', 'AUT', 4.318),\n",
                "(12, 'Silverstone Circuit', 'GBR', 5.891),\n",
                "(13, 'Circuit de Spa-Francorchamps', 'BEL', 7.004),\n",
                "(14, 'Hungaroring', 'HUN', 4.381),\n",
                "(15, 'Circuit Zandvoort', 'NED', 4.259),\n",
                "(16, 'Autodromo Nazionale Monza', 'ITA', 5.793),\n",
                "(17, 'Baku City Circuit', 'AZE', 6.003),\n",
                "(18, 'Marina Bay Street Circuit', 'SGP', 4.940),\n",
                "(19, 'Circuit of the Americas', 'USA', 5.513),\n",
                "(20, 'Autódromo Hermanos Rodríguez', 'MEX', 4.304),\n",
                "(21, 'Interlagos Circuit', 'BRA', 4.309),\n",
                "(22, 'Las Vegas Street Circuit', 'USA', 6.201),\n",
                "(23, 'Lusail International Circuit', 'QAT', 5.419),\n",
                "(24, 'Yas Marina Circuit', 'UAE', 5.281);"
            ],
            "metadata": {
                "azdata_cell_guid": "959312cb-9551-47e8-8f85-a08f4b50873a",
                "language": "sql"
            },
            "outputs": [],
            "execution_count": null
        },
        {
            "cell_type": "code",
            "source": [
                "INSERT INTO race (raceId, circuitId, raceDate, numberOfLaps) VALUES\n",
                "(1, 1, '2024-03-24', 58),  -- Melbourne\n",
                "(2, 2, '2024-04-21', 56),  -- Shanghai\n",
                "(3, 3, '2024-04-07', 53),  -- Suzuka\n",
                "(4, 4, '2024-03-02', 57),  -- Bahrain\n",
                "(5, 5, '2024-03-09', 50),  -- Jeddah\n",
                "(6, 6, '2024-05-05', 57),  -- Miami\n",
                "(7, 7, '2024-05-19', 63),  -- Imola\n",
                "(8, 8, '2024-05-26', 78),  -- Monaco\n",
                "(9, 9, '2024-06-23', 66),  -- Barcelona\n",
                "(10, 10, '2024-06-09', 70), -- Montreal\n",
                "(11, 11, '2024-06-30', 71), -- Spielberg\n",
                "(12, 12, '2024-07-07', 52), -- Silverstone\n",
                "(13, 13, '2024-07-28', 44), -- Spa\n",
                "(14, 14, '2024-07-21', 70), -- Budapest\n",
                "(15, 15, '2024-08-25', 72), -- Zandvoort\n",
                "(16, 16, '2024-09-01', 53), -- Monza\n",
                "(17, 17, '2024-09-15', 51), -- Baku\n",
                "(18, 18, '2024-09-22', 62), -- Singapore\n",
                "(19, 19, '2024-10-20', 56), -- Austin\n",
                "(20, 20, '2024-10-27', 71), -- Mexico City\n",
                "(21, 21, '2024-11-03', 71), -- Sao Paulo\n",
                "(22, 22, '2024-11-24', 50), -- Las Vegas\n",
                "(23, 23, '2024-12-01', 57), -- Lusail\n",
                "(24, 24, '2024-12-08', 58); -- Yas Marina\n",
                ""
            ],
            "metadata": {
                "azdata_cell_guid": "d21edc70-1863-4420-b218-bde71bfa9da7",
                "language": "sql"
            },
            "outputs": [],
            "execution_count": null
        }
    ]
}