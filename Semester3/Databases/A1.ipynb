{
    "metadata": {
        "kernelspec": {
            "name": "SQL",
            "display_name": "SQL",
            "language": "sql"
        },
        "language_info": {
            "name": "sql",
            "version": ""
        }
    },
    "nbformat_minor": 2,
    "nbformat": 4,
    "cells": [
        {
            "cell_type": "code",
            "source": [
                "use f1_season_2024;\n",
                "-- single line comment \n",
                "/*\n",
                "This is \n",
                "a multi-line\n",
                "comment\n",
                "*/"
            ],
            "metadata": {
                "azdata_cell_guid": "8d048b7c-bf53-4adb-82d5-be0551e0a014",
                "language": "sql",
                "tags": []
            },
            "outputs": [
                {
                    "output_type": "display_data",
                    "data": {
                        "text/html": "Commands completed successfully."
                    },
                    "metadata": {}
                },
                {
                    "output_type": "display_data",
                    "data": {
                        "text/html": "Total execution time: 00:00:00.004"
                    },
                    "metadata": {}
                }
            ],
            "execution_count": 1
        },
        {
            "cell_type": "code",
            "source": [
                "create table constructor(\n",
                "\tconstructorId int primary key,\n",
                "    constructorName varchar(255) not null,\n",
                "    constructorCountry varchar(5) not null);"
            ],
            "metadata": {
                "azdata_cell_guid": "2b69efec-a5ed-4f7e-a491-b48ee2359e37",
                "language": "sql"
            },
            "outputs": [
                {
                    "output_type": "display_data",
                    "data": {
                        "text/html": "Commands completed successfully."
                    },
                    "metadata": {}
                },
                {
                    "output_type": "display_data",
                    "data": {
                        "text/html": "Total execution time: 00:00:00.025"
                    },
                    "metadata": {}
                }
            ],
            "execution_count": 2
        },
        {
            "cell_type": "code",
            "source": [
                "create table team(\n",
                "\tteamId int primary key,\n",
                "    constructorId int not null,\n",
                "    teamName varchar(255) not null,\n",
                "    teamCountry varchar(5) not null,\n",
                "    constraint FK_Team foreign key(constructorId) references constructor(constructorId)\n",
                "\t\ton delete cascade -- upon deletion of the reference, all rows with this reference will be deleted(will likely not be used)\n",
                ");"
            ],
            "metadata": {
                "azdata_cell_guid": "5e73ca67-da43-4b3e-b064-b2cfb5305e6b",
                "language": "sql",
                "tags": []
            },
            "outputs": [
                {
                    "output_type": "display_data",
                    "data": {
                        "text/html": "Commands completed successfully."
                    },
                    "metadata": {}
                },
                {
                    "output_type": "display_data",
                    "data": {
                        "text/html": "Total execution time: 00:00:00.019"
                    },
                    "metadata": {}
                }
            ],
            "execution_count": 3
        },
        {
            "cell_type": "code",
            "source": [
                "create table sponsor(\n",
                "\tsponsorId int primary key,\n",
                "    sponsorName varchar(255) not null,\n",
                "    sponsorCountry varchar(5) not null\n",
                ");"
            ],
            "metadata": {
                "azdata_cell_guid": "7200576d-045e-4fe3-8d63-191b1326eb6e",
                "language": "sql"
            },
            "outputs": [
                {
                    "output_type": "display_data",
                    "data": {
                        "text/html": "Commands completed successfully."
                    },
                    "metadata": {}
                },
                {
                    "output_type": "display_data",
                    "data": {
                        "text/html": "Total execution time: 00:00:00.012"
                    },
                    "metadata": {}
                }
            ],
            "execution_count": 4
        },
        {
            "cell_type": "code",
            "source": [
                "create table sponsorship(\n",
                "\tsponsorshipId int primary key,\n",
                "    teamId int not null,\n",
                "    sponsorId int not null,\n",
                "    constraint FK1_Sponsorship foreign key(teamId) references team(teamId),\n",
                "    constraint FK2_Sponsorship foreign key(sponsorId) references sponsor(sponsorId),\n",
                "    unique(teamId, sponsorId) -- makes it so that there is no 'double' sponsorship for one team from the same sponsor\n",
                ");"
            ],
            "metadata": {
                "azdata_cell_guid": "e0d8edf6-425d-4526-9e26-f13e6e8ed9ae",
                "language": "sql"
            },
            "outputs": [
                {
                    "output_type": "display_data",
                    "data": {
                        "text/html": "Commands completed successfully."
                    },
                    "metadata": {}
                },
                {
                    "output_type": "display_data",
                    "data": {
                        "text/html": "Total execution time: 00:00:00.012"
                    },
                    "metadata": {}
                }
            ],
            "execution_count": 6
        },
        {
            "cell_type": "code",
            "source": [
                "create table driver(\n",
                "\tdriverId int primary key,\n",
                "    driverName varchar(255) not null,\n",
                "    teamId int not null,\n",
                "    nationality varchar(5) not null,\n",
                "    dateOfBirth date not null,\n",
                "    constraint FK_Driver foreign key(teamId) references team(teamId)\n",
                ");"
            ],
            "metadata": {
                "azdata_cell_guid": "755d9737-239e-4cfe-a3b8-d582c8513951",
                "language": "sql"
            },
            "outputs": [
                {
                    "output_type": "display_data",
                    "data": {
                        "text/html": "Commands completed successfully."
                    },
                    "metadata": {}
                },
                {
                    "output_type": "display_data",
                    "data": {
                        "text/html": "Total execution time: 00:00:00.013"
                    },
                    "metadata": {}
                }
            ],
            "execution_count": 7
        },
        {
            "cell_type": "code",
            "source": [
                "create table driverChampionship(\n",
                "\tdchampionshipId int primary key,\n",
                "    driverId int not null,\n",
                "    points float not null default 0.0, -- sets the default points of a driver to 0\n",
                "    constraint FK_DriverChampionship foreign key(driverId) references driver(driverId)\n",
                ");"
            ],
            "metadata": {
                "azdata_cell_guid": "de2550c1-712f-4880-8b60-48078c9b874d",
                "language": "sql"
            },
            "outputs": [
                {
                    "output_type": "display_data",
                    "data": {
                        "text/html": "Commands completed successfully."
                    },
                    "metadata": {}
                },
                {
                    "output_type": "display_data",
                    "data": {
                        "text/html": "Total execution time: 00:00:00.010"
                    },
                    "metadata": {}
                }
            ],
            "execution_count": 9
        },
        {
            "cell_type": "code",
            "source": [
                "create table circuit(\n",
                "\tcircuitId int primary key,\n",
                "    circuitName varchar(255) not null,\n",
                "    circuitCountry varchar(5) not null,\n",
                "    lapLength decimal(2,1) not null default 0, -- stores lengths up to 9.9 (km), default value is 0\n",
                "    constraint LapRange check (lapLength >= 0) -- the distance should be a positive number\n",
                ");"
            ],
            "metadata": {
                "azdata_cell_guid": "57aab31a-7b48-494c-b695-844229ae4b3a",
                "language": "sql"
            },
            "outputs": [
                {
                    "output_type": "display_data",
                    "data": {
                        "text/html": "Commands completed successfully."
                    },
                    "metadata": {}
                },
                {
                    "output_type": "display_data",
                    "data": {
                        "text/html": "Total execution time: 00:00:00.026"
                    },
                    "metadata": {}
                }
            ],
            "execution_count": 10
        },
        {
            "cell_type": "code",
            "source": [
                "create table race(\n",
                "\traceId int primary key,\n",
                "    circuitId int not null,\n",
                "    raceDate date not null,\n",
                "    numberOfLaps int not null default 0,\n",
                "    constraint FK_Race foreign key(circuitId) references circuit(circuitId),\n",
                "    constraint DateRange check (YEAR(raceDate) = 2024) -- date should be this year(2024) since the database is for the 2024 season\n",
                ");"
            ],
            "metadata": {
                "azdata_cell_guid": "69873d4c-0fb6-4e56-bf5c-e0ade52cbeac",
                "language": "sql"
            },
            "outputs": [
                {
                    "output_type": "display_data",
                    "data": {
                        "text/html": "Commands completed successfully."
                    },
                    "metadata": {}
                },
                {
                    "output_type": "display_data",
                    "data": {
                        "text/html": "Total execution time: 00:00:00.010"
                    },
                    "metadata": {}
                }
            ],
            "execution_count": 11
        },
        {
            "cell_type": "code",
            "source": [
                "create table result(\n",
                "\tresultId int primary key,\n",
                "    raceId int not null,\n",
                "    driverId int not null,\n",
                "    placement int not null,\n",
                "    unique (raceId, placement),\n",
                "    constraint PlacementRange check (placement >= 1 and placement <= 20), -- there are 20 drivers in a race, so placements range from 1..20\n",
                "    constraint FK1_Result foreign key(raceId) references race(raceId),\n",
                "    constraint FK2_Result foreign key(driverId) references driver(driverId),\n",
                "    unique (raceId, driverId) -- for a specific race, the driver should have only one result\n",
                ");"
            ],
            "metadata": {
                "azdata_cell_guid": "fe0947a5-1891-4b30-8906-6065693f505d",
                "language": "sql"
            },
            "outputs": [
                {
                    "output_type": "display_data",
                    "data": {
                        "text/html": "Commands completed successfully."
                    },
                    "metadata": {}
                },
                {
                    "output_type": "display_data",
                    "data": {
                        "text/html": "Total execution time: 00:00:00.012"
                    },
                    "metadata": {}
                }
            ],
            "execution_count": 13
        },
        {
            "cell_type": "code",
            "source": [
                "create table dhlFastestLap(\n",
                "\tdhlId int primary key,\n",
                "    raceId int not null,\n",
                "    driverId int not null,\n",
                "    fastestLapTime varchar(15) not null default '0:00.000' -- example '1:20.123'\n",
                ");"
            ],
            "metadata": {
                "azdata_cell_guid": "6d259da3-1635-4679-b483-4b2f4605faa3",
                "language": "sql"
            },
            "outputs": [
                {
                    "output_type": "display_data",
                    "data": {
                        "text/html": "Commands completed successfully."
                    },
                    "metadata": {}
                },
                {
                    "output_type": "display_data",
                    "data": {
                        "text/html": "Total execution time: 00:00:00.013"
                    },
                    "metadata": {}
                }
            ],
            "execution_count": 14
        }
    ]
}