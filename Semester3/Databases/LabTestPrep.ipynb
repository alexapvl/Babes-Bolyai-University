{
    "metadata": {
        "kernelspec": {
            "name": "SQL",
            "display_name": "SQL",
            "language": "sql"
        },
        "language_info": {
            "name": "sql",
            "version": ""
        }
    },
    "nbformat_minor": 2,
    "nbformat": 4,
    "cells": [
        {
            "cell_type": "code",
            "source": [
                "CREATE DATABASE TrainSchedules;"
            ],
            "metadata": {
                "azdata_cell_guid": "0c7bc718-e12f-4e14-ae82-d7bd0f64702c",
                "language": "sql"
            },
            "outputs": [],
            "execution_count": null
        },
        {
            "cell_type": "code",
            "source": [
                "USE TrainSchedules;"
            ],
            "metadata": {
                "language": "sql",
                "azdata_cell_guid": "0c3fafa4-0983-48db-9f31-d8fc6e73d1be"
            },
            "outputs": [],
            "execution_count": null
        },
        {
            "cell_type": "code",
            "source": [
                "create table TrainTypes (\n",
                "    ttid int primary key,\n",
                "    ttname varchar(50),\n",
                "    ttdesc varchar(255)\n",
                ");"
            ],
            "metadata": {
                "language": "sql",
                "azdata_cell_guid": "0d21a2b2-45a2-423a-857e-f7f1e55b3c1e"
            },
            "outputs": [],
            "execution_count": null
        },
        {
            "cell_type": "code",
            "source": [
                "create table Trains (\n",
                "    tid int primary key,\n",
                "    tname varchar(50),\n",
                "    ttid int foreign key references TrainTypes(ttid)\n",
                ");"
            ],
            "metadata": {
                "language": "sql",
                "azdata_cell_guid": "8daea4b5-09b4-416e-9706-72ca51b3f629"
            },
            "outputs": [],
            "execution_count": null
        },
        {
            "cell_type": "code",
            "source": [
                "create table Routes (\n",
                "    rid int primary key,\n",
                "    rname varchar(50) unique,\n",
                "    tid int foreign key references Trains(tid)\n",
                ");"
            ],
            "metadata": {
                "language": "sql",
                "azdata_cell_guid": "c65ca73b-9e2c-4e44-9f26-d1c38e1154c8"
            },
            "outputs": [],
            "execution_count": null
        },
        {
            "cell_type": "code",
            "source": [
                "create table Stations (\n",
                "    sid int primary key,\n",
                "    sname varchar(50) unique\n",
                ");"
            ],
            "metadata": {
                "language": "sql",
                "azdata_cell_guid": "6a555383-4785-447b-a4fb-85bcb0e9bf98"
            },
            "outputs": [],
            "execution_count": null
        },
        {
            "cell_type": "code",
            "source": [
                "create table Schedule (\n",
                "    rid int foreign key references Routes(rid),\n",
                "    sid int foreign key references Stations(sid),\n",
                "    atime time,\n",
                "    dtime time,\n",
                "    primary key (rid, sid)\n",
                ");"
            ],
            "metadata": {
                "language": "sql",
                "azdata_cell_guid": "0d5d7f98-67b5-4f23-9efa-ba06081b5771"
            },
            "outputs": [],
            "execution_count": null
        },
        {
            "cell_type": "code",
            "source": [
                "CREATE PROCEDURE AddRoute (@Sid INT, @Rid INT, @Atime TIME, @Dtime TIME) AS\n",
                "BEGIN\n",
                "    IF EXISTS (SELECT rid, sid FROM Schedule WHERE rid=@Rid and sid=@Sid)\n",
                "    BEGIN\n",
                "        -- update the staion from that route with the given arrival and departure times\n",
                "        UPDATE Scedule SET atime=@Atime, dtime=@Dtime WHERE rid=@Rid and sid=@Sid\n",
                "    END\n",
                "    ELSE\n",
                "    BEGIN\n",
                "        -- insert station to route\n",
                "        INSERT INTO Schedule VALUES (@Rid, @Sid, @Atime, @Dtime)\n",
                "    END\n",
                "END"
            ],
            "metadata": {
                "language": "sql",
                "azdata_cell_guid": "6208ca7d-c899-4459-a056-d1ae947cb299"
            },
            "outputs": [],
            "execution_count": null
        },
        {
            "cell_type": "code",
            "source": [
                "CREATE VIEW PassAllStations AS\n",
                "    SELECT R.rid AS 'Route ID' FROM Routes R WHERE\n",
                "        (SELECT COUNT(DISTINCT S.Sid) FROM Schedule S WHERE S.rid = R.rid)\n",
                "        = \n",
                "        (SELECT COUNT(*) FROM Stations) "
            ],
            "metadata": {
                "language": "sql",
                "azdata_cell_guid": "4a778099-a6a5-4a56-9aba-57c3ee1af164"
            },
            "outputs": [],
            "execution_count": null
        },
        {
            "cell_type": "code",
            "source": [
                "CREATE FUNCTION MoreThanRRoutes (@R INT) \n",
                "RETURNS TABLE\n",
                "AS \n",
                "RETURN (\n",
                "    SELECT S.sname as 'Station Name' FROM Stations S\n",
                "    WHERE (\n",
                "        SELECT COUNT(DISTINCT rid) \n",
                "        FROM Schedule \n",
                "        WHERE S.sid = sid\n",
                "    ) > @R\n",
                ")"
            ],
            "metadata": {
                "language": "sql",
                "azdata_cell_guid": "0138131b-1b6f-46b6-a942-c7957a0e50a6"
            },
            "outputs": [],
            "execution_count": null
        }
    ]
}