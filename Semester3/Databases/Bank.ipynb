{
    "metadata": {
        "kernelspec": {
            "name": "SQL",
            "display_name": "SQL",
            "language": "sql"
        },
        "language_info": {
            "name": "sql",
            "version": ""
        }
    },
    "nbformat_minor": 2,
    "nbformat": 4,
    "cells": [
        {
            "cell_type": "code",
            "source": [
                "CREATE DATABASE Bank"
            ],
            "metadata": {
                "azdata_cell_guid": "c94e1f60-e038-4de6-b9d3-62c0f59d5407",
                "language": "sql"
            },
            "outputs": [],
            "execution_count": null
        },
        {
            "cell_type": "code",
            "source": [
                "USE Bank"
            ],
            "metadata": {
                "language": "sql",
                "azdata_cell_guid": "96086328-a688-459e-b9a2-a7e931cbda5e"
            },
            "outputs": [],
            "execution_count": null
        },
        {
            "cell_type": "code",
            "source": [
                "CREATE TABLE Customers (\n",
                "    cid INT PRIMARY KEY,\n",
                "    cname VARCHAR(50),\n",
                "    cdob DATETIME\n",
                ")"
            ],
            "metadata": {
                "language": "sql",
                "azdata_cell_guid": "cdeac572-9ccf-4306-813d-a5450f491197"
            },
            "outputs": [],
            "execution_count": null
        },
        {
            "cell_type": "code",
            "source": [
                "INSERT INTO Customers VALUES \n",
                "(1, 'Alex', '2004-10-07'),\n",
                "(2, 'Ioana', '1975-09-27')"
            ],
            "metadata": {
                "language": "sql",
                "azdata_cell_guid": "944aaa2a-36f6-47e2-9db8-3e60c7c5be3f"
            },
            "outputs": [],
            "execution_count": null
        },
        {
            "cell_type": "code",
            "source": [
                "CREATE TABLE BankAccounts (\n",
                "    IBAN VARCHAR(34) PRIMARY KEY,\n",
                "    currentBalance FLOAT,\n",
                "    cid INT FOREIGN KEY REFERENCES Customers(cid)\n",
                ")"
            ],
            "metadata": {
                "language": "sql",
                "azdata_cell_guid": "04615e3f-c598-43e7-aa6f-6c41eda5bc31"
            },
            "outputs": [],
            "execution_count": null
        },
        {
            "cell_type": "code",
            "source": [
                "INSERT INTO BankAccounts VALUES \n",
                "('1', 100.12, 1),\n",
                "('2', 24372.57, 2)"
            ],
            "metadata": {
                "language": "sql",
                "azdata_cell_guid": "3986d2a5-8957-43ea-a00a-9ae400b54f47"
            },
            "outputs": [],
            "execution_count": null
        },
        {
            "cell_type": "code",
            "source": [
                "CREATE TABLE Cards (\n",
                "    cnumber VARCHAR(16) PRIMARY KEY,\n",
                "    CVV VARCHAR(3),\n",
                "    IBAN VARCHAR(34) FOREIGN KEY REFERENCES BankAccounts(IBAN)\n",
                ")"
            ],
            "metadata": {
                "language": "sql",
                "azdata_cell_guid": "fd732e04-a404-4fcf-be2c-1902791c6bdb"
            },
            "outputs": [],
            "execution_count": null
        },
        {
            "cell_type": "code",
            "source": [
                "INSERT INTO Cards VALUES \n",
                "('1', '333', '1'),\n",
                "('2', '444', '2'),\n",
                "('3', '555', '2')"
            ],
            "metadata": {
                "language": "sql",
                "azdata_cell_guid": "cfdf05b0-9f1d-4281-b292-db9817d0c54d"
            },
            "outputs": [],
            "execution_count": null
        },
        {
            "cell_type": "code",
            "source": [
                "CREATE TABLE ATMs (\n",
                "    aid INT PRIMARY KEY,\n",
                "    aaddress VARCHAR(100)\n",
                ")"
            ],
            "metadata": {
                "language": "sql",
                "azdata_cell_guid": "14cbf9aa-23b1-4f1c-9e80-10ec8982ce1a"
            },
            "outputs": [],
            "execution_count": null
        },
        {
            "cell_type": "code",
            "source": [
                "INSERT INTO ATMs VALUES \n",
                "(1, 'Antim Ivireanul'),\n",
                "(2, 'Brancusi')"
            ],
            "metadata": {
                "language": "sql",
                "azdata_cell_guid": "92e0d28c-c955-4c8f-a4ea-f4ebb6130e9f"
            },
            "outputs": [],
            "execution_count": null
        },
        {
            "cell_type": "code",
            "source": [
                "CREATE TABLE Transactions (\n",
                "    aid INT FOREIGN KEY REFERENCES ATMs(aid),\n",
                "    tvalue FLOAT,\n",
                "    cnumber VARCHAR(16) FOREIGN KEY REFERENCES Cards(cnumber),\n",
                "    ttime DATETIME\n",
                ")"
            ],
            "metadata": {
                "language": "sql",
                "azdata_cell_guid": "274c166f-463b-4e2c-816a-7ee060b9c5e2"
            },
            "outputs": [],
            "execution_count": null
        },
        {
            "cell_type": "code",
            "source": [
                "INSERT INTO Transactions VALUES\n",
                "(1, 100.0, '1', '2025-01-07'),\n",
                "(2, 1901.0, '1', '2024-12-31'),\n",
                "(2, 200, '3', '2024-10-23'),\n",
                "(1, 2005.0, '2', '2025-01-01')"
            ],
            "metadata": {
                "language": "sql",
                "azdata_cell_guid": "c8cf804d-57cc-4983-b705-ebed5fbc84bc"
            },
            "outputs": [],
            "execution_count": null
        },
        {
            "cell_type": "code",
            "source": [
                "-- recieve a card and delete all transactions from that card\n",
                "CREATE PROCEDURE DeleteAllTransactionsFromCard (@CardNo VARCHAR(16)) AS\n",
                "BEGIN\n",
                "    DELETE FROM Transactions WHERE cnumber = @CardNo \n",
                "END"
            ],
            "metadata": {
                "language": "sql",
                "azdata_cell_guid": "a2cd8b30-8f27-4c5d-b76c-bd8278f69167"
            },
            "outputs": [],
            "execution_count": null
        },
        {
            "cell_type": "code",
            "source": [
                "-- view that shows the card numbers which have transactions at all atms\n",
                "CREATE VIEW ShowCardsWithAllATMsTransaction AS\n",
                "    SELECT C.cnumber \n",
                "    FROM Cards C\n",
                "    WHERE (SELECT COUNT(*) FROM ATMs)\n",
                "    = (SELECT COUNT(*) FROM Transactions WHERE C.cnumber = cnumber)"
            ],
            "metadata": {
                "language": "sql",
                "azdata_cell_guid": "71fabecb-ef1b-4800-b137-5ba32dc95ab8"
            },
            "outputs": [],
            "execution_count": null
        },
        {
            "cell_type": "code",
            "source": [
                "CREATE FUNCTION ListCardsWithBigTotal ()\n",
                "RETURNS TABLE\n",
                "AS\n",
                "RETURN (\n",
                "    SELECT T.cnumber, C.CVV, SUM(T.tvalue) AS \"Sum\"\n",
                "    FROM Transactions T\n",
                "    JOIN Cards C\n",
                "    ON T.cnumber = C.cnumber\n",
                "    GROUP BY T.cnumber, C.CVV\n",
                "    HAVING SUM(T.tvalue) > 2000.0\n",
                ")"
            ],
            "metadata": {
                "language": "sql",
                "azdata_cell_guid": "c38d74b1-d495-48ab-8f49-d4ffec894250"
            },
            "outputs": [
                {
                    "output_type": "display_data",
                    "data": {
                        "text/html": "Commands completed successfully."
                    },
                    "metadata": {}
                },
                {
                    "output_type": "display_data",
                    "data": {
                        "text/html": "Total execution time: 00:00:00.039"
                    },
                    "metadata": {}
                }
            ],
            "execution_count": 49
        }
    ]
}