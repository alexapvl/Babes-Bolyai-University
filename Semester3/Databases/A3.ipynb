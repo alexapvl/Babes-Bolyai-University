{
    "metadata": {
        "kernelspec": {
            "name": "SQL",
            "display_name": "SQL",
            "language": "sql"
        },
        "language_info": {
            "name": "sql",
            "version": ""
        }
    },
    "nbformat_minor": 2,
    "nbformat": 4,
    "cells": [
        {
            "cell_type": "markdown",
            "source": [
                "Write SQL scripts that:  \n",
                "a. modify the type of a column;  \n",
                "b. add / remove a column;  \n",
                "c. add / remove a DEFAULT constraint;  \n",
                "d. add / remove a primary key;  \n",
                "e. add / remove a candidate key;  \n",
                "f. add / remove a foreign key;  \n",
                "g. create / drop a table.\n",
                "\n",
                "For each of the scripts above, write another one that reverts the operation. Place each script in a stored procedure. Use a simple, intuitive naming convention.\n",
                "\n",
                "Create a new table that holds the current version of the database schema. Simplifying assumption: the version is an integer number.\n",
                "\n",
                "Write a stored procedure that receives as a parameter a version number and brings the database to that version."
            ],
            "metadata": {
                "azdata_cell_guid": "987b8b0a-daaa-4027-affd-5c40b4a1e807"
            },
            "attachments": {}
        },
        {
            "cell_type": "code",
            "source": [
                "use f1_season_2024;"
            ],
            "metadata": {
                "azdata_cell_guid": "29f12999-d6a2-45f6-91fb-514920f2f65e",
                "language": "sql"
            },
            "outputs": [],
            "execution_count": null
        },
        {
            "cell_type": "markdown",
            "source": [
                "a. modify the type of a column"
            ],
            "metadata": {
                "language": "sql",
                "azdata_cell_guid": "539f30b2-0a76-4551-98ca-fc8885b3515d"
            },
            "attachments": {}
        },
        {
            "cell_type": "code",
            "source": [
                "CREATE PROCEDURE ModifyTypeOfColumn AS\n",
                "BEGIN\n",
                "    ALTER TABLE TestTable ALTER COLUMN TestColumn INT;\n",
                "END;"
            ],
            "metadata": {
                "language": "sql",
                "azdata_cell_guid": "ddd7a062-a867-45b0-8377-bd10a66c55fc"
            },
            "outputs": [],
            "execution_count": null
        },
        {
            "cell_type": "code",
            "source": [
                "CREATE PROCEDURE RevertModifyTypeOfColumn AS\n",
                "BEGIN\n",
                "    ALTER TABLE TestTable ALTER COLUMN TestColumn VARCHAR(255);\n",
                "END;"
            ],
            "metadata": {
                "language": "sql",
                "azdata_cell_guid": "5da08dae-a0c4-401e-b58f-1a2e27de3e47",
                "tags": []
            },
            "outputs": [],
            "execution_count": null
        },
        {
            "cell_type": "markdown",
            "source": [
                "b. add/ remove a column;"
            ],
            "metadata": {
                "language": "sql",
                "azdata_cell_guid": "9152d787-0163-40a3-8491-92910aad2435"
            },
            "attachments": {}
        },
        {
            "cell_type": "code",
            "source": [
                "CREATE PROCEDURE AddColumn AS\n",
                "BEGIN\n",
                "    ALTER TABLE TestTable ADD MyNewColumn NVARCHAR(50);\n",
                "END;"
            ],
            "metadata": {
                "language": "sql",
                "azdata_cell_guid": "44dc85a6-c3d4-4cbc-aba8-40c538bba509"
            },
            "outputs": [],
            "execution_count": null
        },
        {
            "cell_type": "code",
            "source": [
                "CREATE PROCEDURE RemoveColumn AS\n",
                "BEGIN\n",
                "    ALTER TABLE TestTable DROP COLUMN MyNewColumn;\n",
                "END;"
            ],
            "metadata": {
                "language": "sql",
                "azdata_cell_guid": "140d6958-dd06-4dcf-9a71-ff4be39219a6"
            },
            "outputs": [],
            "execution_count": null
        },
        {
            "cell_type": "markdown",
            "source": [
                "c. add / remove a DEFAULT constraint;"
            ],
            "metadata": {
                "language": "sql",
                "azdata_cell_guid": "a3140169-61ac-4d6e-ab01-3950638d1710"
            },
            "attachments": {}
        },
        {
            "cell_type": "code",
            "source": [
                "CREATE PROCEDURE AddDefaultConstraint AS\n",
                "BEGIN\n",
                "    ALTER TABLE TestTable ADD CONSTRAINT DF_age DEFAULT 18 FOR age;\n",
                "END;"
            ],
            "metadata": {
                "language": "sql",
                "azdata_cell_guid": "986d3d59-8dfd-4f72-868a-986a612ecfbf"
            },
            "outputs": [],
            "execution_count": null
        },
        {
            "cell_type": "code",
            "source": [
                "CREATE PROCEDURE RemoveDefaultConstraint AS\n",
                "BEGIN\n",
                "    ALTER TABLE TestTable DROP CONSTRAINT DF_age;\n",
                "END;"
            ],
            "metadata": {
                "language": "sql",
                "azdata_cell_guid": "b1b8a388-4ed1-4eec-8386-0ba7ead96cea",
                "tags": []
            },
            "outputs": [],
            "execution_count": null
        },
        {
            "cell_type": "markdown",
            "source": [
                "d. add / remove a primary key"
            ],
            "metadata": {
                "language": "sql",
                "azdata_cell_guid": "71796f7a-737b-4419-828f-112a9e31a668"
            },
            "attachments": {}
        },
        {
            "cell_type": "code",
            "source": [
                "CREATE PROCEDURE AddPrimaryKey\n",
                "AS\n",
                "BEGIN\n",
                "    ALTER TABLE TestTable\n",
                "    ADD CONSTRAINT PK_test_table PRIMARY KEY (id);\n",
                "END;\n",
                ""
            ],
            "metadata": {
                "language": "sql",
                "azdata_cell_guid": "58f168cb-be44-410c-ade9-85d14a51d72b"
            },
            "outputs": [],
            "execution_count": null
        },
        {
            "cell_type": "code",
            "source": [
                "CREATE PROCEDURE RemovePrimaryKey\n",
                "AS\n",
                "BEGIN\n",
                "    ALTER TABLE TestTable\n",
                "    DROP CONSTRAINT PK_test_table;\n",
                "END;"
            ],
            "metadata": {
                "language": "sql",
                "azdata_cell_guid": "fb83ad76-ac8e-4ec1-b633-9942c5f79fd8"
            },
            "outputs": [],
            "execution_count": null
        },
        {
            "cell_type": "markdown",
            "source": [
                "e. add / remove a candidate key (uniqueness constraint)"
            ],
            "metadata": {
                "language": "sql",
                "azdata_cell_guid": "e1199af7-eecd-491e-872c-2b4d198f6839"
            },
            "attachments": {}
        },
        {
            "cell_type": "code",
            "source": [
                "CREATE PROCEDURE AddCandidateKey\n",
                "AS\n",
                "BEGIN\n",
                "    ALTER TABLE TestTable\n",
                "    ADD CONSTRAINT UQ_test_table UNIQUE (id);\n",
                "END;"
            ],
            "metadata": {
                "language": "sql",
                "azdata_cell_guid": "464fd710-dcc1-4c1c-bd50-c5450efe6391"
            },
            "outputs": [],
            "execution_count": null
        },
        {
            "cell_type": "code",
            "source": [
                "CREATE PROCEDURE RemoveCandidateKey\n",
                "AS\n",
                "BEGIN\n",
                "    ALTER TABLE TestTable\n",
                "    DROP CONSTRAINT UQ_test_table;\n",
                "END;"
            ],
            "metadata": {
                "language": "sql",
                "azdata_cell_guid": "9ceefaf8-6b8a-4a0f-bb5d-2b6c2cee7abd"
            },
            "outputs": [],
            "execution_count": null
        },
        {
            "cell_type": "markdown",
            "source": [
                "f. add / remove a foreign key"
            ],
            "metadata": {
                "language": "sql",
                "azdata_cell_guid": "2d193879-aaf6-400b-b84e-1f5c52cbd16c"
            },
            "attachments": {}
        },
        {
            "cell_type": "code",
            "source": [
                "CREATE PROCEDURE AddForeignKey\n",
                "AS\n",
                "BEGIN\n",
                "    ALTER TABLE TestTable\n",
                "    ADD CONSTRAINT FK_test_table FOREIGN KEY(TestColumn) REFERENCES driver(driverId);\n",
                "END;"
            ],
            "metadata": {
                "language": "sql",
                "azdata_cell_guid": "b42080e4-9f5c-43bb-82be-f0dae2abf915"
            },
            "outputs": [],
            "execution_count": null
        },
        {
            "cell_type": "code",
            "source": [
                "CREATE PROCEDURE RemoveForeignKey\n",
                "AS\n",
                "BEGIN\n",
                "    ALTER TABLE TestTable\n",
                "    DROP CONSTRAINT FK_test_table\n",
                "END;"
            ],
            "metadata": {
                "language": "sql",
                "azdata_cell_guid": "12e0c9de-e18a-46f4-837b-5455f7599c2a"
            },
            "outputs": [],
            "execution_count": null
        },
        {
            "cell_type": "markdown",
            "source": [
                "g. create/drop table"
            ],
            "metadata": {
                "azdata_cell_guid": "9a20b3d5-4c95-47b4-9d3f-bcdf90110fd6"
            },
            "attachments": {}
        },
        {
            "cell_type": "code",
            "source": [
                "CREATE PROCEDURE CreateTable AS\n",
                "BEGIN\n",
                "    CREATE TABLE TestTable (\n",
                "        id INT NOT NULL, -- Needs to be 'not null' in case we want the id to be the PK of the table\n",
                "        name VARCHAR(255) NOT NULL,\n",
                "        age INT NOT NULL,\n",
                "        TestColumn INT NOT NULL\n",
                "    );\n",
                "END;"
            ],
            "metadata": {
                "azdata_cell_guid": "c52c0c68-5b4d-4fde-983c-5d0d14196adc",
                "language": "sql"
            },
            "outputs": [],
            "execution_count": null
        },
        {
            "cell_type": "code",
            "source": [
                "CREATE PROCEDURE RemoveTable AS\n",
                "BEGIN\n",
                "    DROP TABLE TestTable;\n",
                "END;"
            ],
            "metadata": {
                "language": "sql",
                "azdata_cell_guid": "7816ff3a-9b84-4c46-a94c-5f1b8567e6a4"
            },
            "outputs": [],
            "execution_count": null
        },
        {
            "cell_type": "markdown",
            "source": [
                "Now we need the table to keep the database version in"
            ],
            "metadata": {
                "azdata_cell_guid": "7d123714-5c0b-4a22-bbd2-d24c771a7e53"
            },
            "attachments": {}
        },
        {
            "cell_type": "code",
            "source": [
                "CREATE TABLE db_version (\n",
                "    versionId INT PRIMARY KEY,\n",
                "    version INT NOT NULL\n",
                ");"
            ],
            "metadata": {
                "azdata_cell_guid": "b356cf89-e769-4288-aafe-1ee95e543886",
                "language": "sql"
            },
            "outputs": [],
            "execution_count": null
        },
        {
            "cell_type": "code",
            "source": [
                "INSERT INTO db_version (versionId, version) VALUES\n",
                "    (0, 1); -- version 1\n",
                "-- version 1 will not have the test table\n",
                "-- version 2 will have the test table"
            ],
            "metadata": {
                "language": "sql",
                "azdata_cell_guid": "058ab869-c0f4-466e-88a1-76067cc90c4c"
            },
            "outputs": [],
            "execution_count": null
        },
        {
            "cell_type": "code",
            "source": [
                "CREATE PROCEDURE ChangeVersion \n",
                "  @version INT\n",
                "AS\n",
                "BEGIN\n",
                "    -- retrieve the current version\n",
                "    DECLARE @currentVersion INT\n",
                "    SELECT @currentVersion = version FROM db_version;\n",
                "\n",
                "    IF @currentVersion = @version\n",
                "    BEGIN\n",
                "        -- nothing to do, print a message\n",
                "        PRINT 'Database is already at version ' + CAST(@version AS VARCHAR);\n",
                "        RETURN;\n",
                "    END\n",
                "    ELSE\n",
                "    BEGIN\n",
                "        IF @version = 1\n",
                "        BEGIN\n",
                "            -- upgrade to version 1\n",
                "            PRINT 'Upgrading to version 1';\n",
                "            -- do the upgrade\n",
                "            UPDATE db_version SET version = 1;\n",
                "            -- do some procedures\n",
                "            EXEC RemoveTable;\n",
                "            RETURN;\n",
                "        END\n",
                "        ELSE IF @version = 2\n",
                "        BEGIN\n",
                "            -- upgrade to version 2\n",
                "            PRINT 'Upgrading to version 2';\n",
                "            -- do the upgrade\n",
                "            UPDATE db_version SET version = 2;\n",
                "            -- do some procedures\n",
                "            EXEC CreateTable;\n",
                "            EXEC ModifyTypeOfColumn;\n",
                "            EXEC AddColumn;\n",
                "            EXEC AddDefaultConstraint;\n",
                "            EXEC AddCandidateKey;\n",
                "            EXEC AddPrimaryKey;\n",
                "            EXEC AddForeignKey;\n",
                "            RETURN;\n",
                "        END\n",
                "    END\n",
                "END\n",
                ""
            ],
            "metadata": {
                "language": "sql",
                "azdata_cell_guid": "d5af82ea-9b9b-46c1-bb49-9809b233906f"
            },
            "outputs": [],
            "execution_count": null
        },
        {
            "cell_type": "code",
            "source": [
                "SELECT * FROM db_version;"
            ],
            "metadata": {
                "language": "sql",
                "azdata_cell_guid": "d7c8057e-19f3-469e-95cd-96a8e1e828a2"
            },
            "outputs": [],
            "execution_count": null
        },
        {
            "cell_type": "code",
            "source": [
                "EXEC ChangeVersion @version = 2;"
            ],
            "metadata": {
                "language": "sql",
                "azdata_cell_guid": "d18b4e00-9442-4a37-a8b1-0e060bb8a149"
            },
            "outputs": [],
            "execution_count": null
        },
        {
            "cell_type": "code",
            "source": [
                "select * from TestTable;"
            ],
            "metadata": {
                "language": "sql",
                "azdata_cell_guid": "8a2124de-0e9b-4226-b186-73d42bb37531"
            },
            "outputs": [],
            "execution_count": null
        }
    ]
}