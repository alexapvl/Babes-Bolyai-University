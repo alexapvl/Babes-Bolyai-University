{
    "metadata": {
        "kernelspec": {
            "name": "SQL",
            "display_name": "SQL",
            "language": "sql"
        },
        "language_info": {
            "name": "sql",
            "version": ""
        }
    },
    "nbformat_minor": 2,
    "nbformat": 4,
    "cells": [
        {
            "cell_type": "code",
            "source": [
                "CREATE DATABASE A4;"
            ],
            "metadata": {
                "azdata_cell_guid": "8d29c2d7-a058-40dd-afa6-8bb4f2c7fcbc",
                "language": "sql"
            },
            "outputs": [],
            "execution_count": null
        },
        {
            "cell_type": "code",
            "source": [
                "use A4;"
            ],
            "metadata": {
                "azdata_cell_guid": "9c8d4dce-9176-40ff-8594-e4a44672dd1f",
                "language": "sql"
            },
            "outputs": [],
            "execution_count": null
        },
        {
            "cell_type": "code",
            "source": [
                "CREATE TABLE GroupTable(\n",
                "    gid INT PRIMARY KEY,\n",
                "    gname VARCHAR(255) NOT NULL\n",
                ");\n",
                ""
            ],
            "metadata": {
                "azdata_cell_guid": "1b369717-6e93-46b7-9ea9-a8b4ad72f933",
                "language": "sql",
                "tags": [
                    "hide_input"
                ]
            },
            "outputs": [],
            "execution_count": null
        },
        {
            "cell_type": "code",
            "source": [
                "CREATE TABLE StudentTable(\n",
                "    sid INT PRIMARY KEY,\n",
                "    sname VARCHAR(30),\n",
                "    gid INT FOREIGN KEY REFERENCES GroupTable(gid)\n",
                ");"
            ],
            "metadata": {
                "language": "sql",
                "azdata_cell_guid": "231df51a-cc75-481d-ac96-81f291ad7206",
                "tags": [
                    "hide_input"
                ]
            },
            "outputs": [],
            "execution_count": null
        },
        {
            "cell_type": "code",
            "source": [
                "CREATE TABLE FavSubjectTable(\n",
                "    sid INT FOREIGN KEY REFERENCES StudentTable(sid),\n",
                "    gid INT FOREIGN KEY REFERENCES GroupTable(gid),\n",
                "    subjectName VARCHAR(50),\n",
                "    PRIMARY KEY(sid, gid)\n",
                ")"
            ],
            "metadata": {
                "azdata_cell_guid": "53d12eea-7969-4d69-a0dc-6668999505ce",
                "language": "sql",
                "tags": [
                    "hide_input"
                ]
            },
            "outputs": [],
            "execution_count": null
        },
        {
            "cell_type": "code",
            "source": [
                "CREATE PROCEDURE InsertGroups (@NoOfRows INT) -- ex. insert 500 groups\n",
                "AS\n",
                "BEGIN\n",
                "    SET NOCOUNT ON; -- mute messages\n",
                "    DECLARE @i INT = 1;\n",
                "    -- Loop to insert 200 groups\n",
                "    WHILE @i <= @NoOfRows\n",
                "    BEGIN\n",
                "        -- Insert statement\n",
                "        INSERT INTO GroupTable (gid, gname) VALUES (\n",
                "            @i,\n",
                "            CONCAT('Group_', @i) -- Generating a unique name \"Group_1\", \"Group_2\", etc.\n",
                "        ) \n",
                "        -- Increment the student ID counter\n",
                "        SET @i = @i + 1;\n",
                "    END;\n",
                "END;"
            ],
            "metadata": {
                "azdata_cell_guid": "3bfbf2ab-f730-4f3a-b052-20575bb87cc6",
                "language": "sql",
                "tags": [
                    "hide_input"
                ]
            },
            "outputs": [],
            "execution_count": null
        },
        {
            "cell_type": "code",
            "source": [
                "CREATE PROCEDURE InsertStudents (@NoOfRows INT) -- ex. insert 10.000 students\n",
                "AS \n",
                "BEGIN\n",
                "    SET NOCOUNT ON; -- mute messages\n",
                "    DECLARE @i INT = 1;\n",
                "    DECLARE @groupNum INT = 1; -- get the number of groups\n",
                "    DECLARE @NoOfGroups INT;\n",
                "    SELECT @NoOfGroups = COUNT(*) FROM GroupTable;\n",
                "    -- Loop to insert 10,000 students\n",
                "    WHILE @i <= @NoOfRows\n",
                "    BEGIN\n",
                "        -- Insert statement\n",
                "        INSERT INTO StudentTable (sid, sname, gid) VALUES (\n",
                "            @i,\n",
                "            CONCAT('Student_', @i),  -- Generating a unique name \"Student_1\", \"Student_2\", etc.\n",
                "            @groupNum\n",
                "        );\n",
                "        \n",
                "        -- Increment the student ID counter\n",
                "        SET @i = @i + 1;\n",
                "\n",
                "        -- Cycle through group IDs from 1 to 500\n",
                "        SET @groupNum = @groupNum + 1;\n",
                "        IF @groupNum > @NoOfGroups \n",
                "        BEGIN\n",
                "            SET @groupNum = 1;\n",
                "        END;\n",
                "    END;\n",
                "END;"
            ],
            "metadata": {
                "language": "sql",
                "azdata_cell_guid": "d18998ea-7124-4a74-9265-db5092beab5a",
                "tags": [
                    "hide_input"
                ]
            },
            "outputs": [],
            "execution_count": null
        },
        {
            "cell_type": "code",
            "source": [
                "CREATE PROCEDURE InsertFavSubjects (@NoOfRows INT) -- ex. insert 2.000 fav subjects for the first 2.000 students (@NoOfRows should be less than the total number of students)\n",
                "AS\n",
                "BEGIN\n",
                "    SET NOCOUNT ON; -- mute messages\n",
                "    DECLARE @i INT = 1;\n",
                "    DECLARE @groupNum INT = 1;\n",
                "    DECLARE @NoOfGroups INT;\n",
                "    SELECT @NoOfGroups = COUNT(*) FROM GroupTable;\n",
                "\n",
                "    WHILE @i <= @NoOfRows\n",
                "    BEGIN\n",
                "        DECLARE @subjectName VARCHAR(50);\n",
                "        IF @i % 4 = 0 \n",
                "        BEGIN\n",
                "            SET @subjectName = 'Math';\n",
                "        END\n",
                "        ELSE IF @i % 4 = 1 \n",
                "        BEGIN\n",
                "            SET @subjectName = 'English';\n",
                "        END\n",
                "        ELSE IF @i % 4 = 2\n",
                "        BEGIN\n",
                "            SET @subjectName = 'History';\n",
                "        END\n",
                "        ELSE IF @i % 4 = 3\n",
                "        BEGIN\n",
                "            SET @subjectName = 'Science';\n",
                "        END;\n",
                "        \n",
                "        -- Insert statement\n",
                "        INSERT INTO FavSubjectTable (sid, gid, subjectName) VALUES (\n",
                "            @i,\n",
                "            @groupNum,\n",
                "            @subjectName  -- cycle through Math, English, History, Science\n",
                "        );\n",
                "        \n",
                "        -- Increment the student ID counter\n",
                "        SET @i = @i + 1;\n",
                "\n",
                "        -- Cycle through group IDs from 1 to 500\n",
                "        SET @groupNum = @groupNum + 1;\n",
                "        IF @groupNum > @NoOfGroups\n",
                "        BEGIN\n",
                "            SET @groupNum = 1;\n",
                "        END;\n",
                "    END;\n",
                "END;"
            ],
            "metadata": {
                "language": "sql",
                "azdata_cell_guid": "ea489af8-b5a6-436c-ae34-ba1474597ee3",
                "tags": [
                    "hide_input"
                ]
            },
            "outputs": [],
            "execution_count": null
        },
        {
            "cell_type": "code",
            "source": [
                "CREATE PROCEDURE InsertIntoTable (@tableId INT, @NoOfRows INT)\n",
                "AS\n",
                "BEGIN\n",
                "    IF @tableId = 1 -- insert data into the GroupTable\n",
                "        EXEC InsertGroups @NoOfRows\n",
                "    ELSE IF @tableId = 2 -- insert data into the StudentTable\n",
                "        EXEC InsertStudents @NoOfRows\n",
                "    ELSE IF @tableId = 3 -- insert data into the FavSubjectTable\n",
                "        EXEC InsertFavSubjects @NoOfRows\n",
                "END;"
            ],
            "metadata": {
                "language": "sql",
                "azdata_cell_guid": "e9a73ce7-f3ed-4465-b0dd-c05006d22518",
                "tags": [
                    "hide_input"
                ]
            },
            "outputs": [],
            "execution_count": null
        },
        {
            "cell_type": "code",
            "source": [
                "CREATE PROCEDURE InsertAll -- we will not use it, just made it for better convenience\n",
                "AS\n",
                "BEGIN\n",
                "    SET NOCOUNT ON; -- mute messages\n",
                "    EXEC InsertGroups;\n",
                "    EXEC InsertStudents;\n",
                "    EXEC InsertFavSubjects;\n",
                "END;"
            ],
            "metadata": {
                "language": "sql",
                "azdata_cell_guid": "5d4df437-b390-4aef-abce-09d16f960b22",
                "tags": [
                    "hide_input"
                ]
            },
            "outputs": [],
            "execution_count": null
        },
        {
            "cell_type": "code",
            "source": [
                "CREATE PROCEDURE ResetTables\n",
                "AS\n",
                "BEGIN\n",
                "    SET NOCOUNT ON; -- mute messages\n",
                "    DELETE FROM FavSubjectTable;    \n",
                "    DELETE FROM StudentTable;\n",
                "    DELETE FROM GroupTable;\n",
                "    \n",
                "END;"
            ],
            "metadata": {
                "azdata_cell_guid": "7eaa7e0d-8a89-4044-8a86-37510081a6bb",
                "language": "sql",
                "tags": [
                    "hide_input"
                ]
            },
            "outputs": [],
            "execution_count": null
        },
        {
            "cell_type": "code",
            "source": [
                "CREATE FUNCTION ufIsOkToInsertFavSubjects (@NoOfFavSubjectsToInsert INT) -- function that checks if it is ok to insert the number of favorite subjects\n",
                "-- THIS FUNCTION IS NOT USED IN THE CODE, BUT IT IS A GOOD EXAMPLE OF HOW TO CREATE A FUNCTION IN SQL\n",
                "RETURNS BIT AS \n",
                "BEGIN\n",
                "    DECLARE @result BIT;\n",
                "    DECLARE @NoOfStudents INT;\n",
                "    SELECT @NoOfStudents = COUNT(*) FROM StudentTable;\n",
                "    IF @NoOfFavSubjectsToInsert > @NoOfStudents\n",
                "        SET @result = 0;\n",
                "    ELSE\n",
                "        SET @result = 1;\n",
                "    RETURN @result;\n",
                "END;"
            ],
            "metadata": {
                "language": "sql",
                "azdata_cell_guid": "3d0c1880-20d2-4a1a-8474-edd1870baf74",
                "tags": [
                    "hide_input"
                ]
            },
            "outputs": [],
            "execution_count": null
        },
        {
            "cell_type": "code",
            "source": [
                "DECLARE @IsOkToInsert BIT; -- test code\n",
                "SET @IsOkToInsert = dbo.ufIsOkToInsertFavSubjects(10);\n",
                "PRINT @IsOkToInsert;"
            ],
            "metadata": {
                "language": "sql",
                "azdata_cell_guid": "843d9135-1858-4eee-9f56-16404a4b77aa",
                "tags": [
                    "hide_input"
                ]
            },
            "outputs": [],
            "execution_count": null
        },
        {
            "cell_type": "code",
            "source": [
                "CREATE VIEW ScienceAsFavSubject AS -- view with a SELECT statement operating on one table\n",
                "    SELECT sid, gid FROM FavSubjectTable WHERE subjectName = 'Science';"
            ],
            "metadata": {
                "language": "sql",
                "azdata_cell_guid": "1833e640-ddfb-4ed2-9c3e-b7d8a0271f70",
                "tags": [
                    "hide_input"
                ]
            },
            "outputs": [],
            "execution_count": null
        },
        {
            "cell_type": "code",
            "source": [
                "CREATE VIEW StudentsFromGroup1 AS -- view with a SELECT statement that operates on at least 2 different tables and contains at least one JOIN operator\n",
                "    SELECT \n",
                "        StudentTable.sid,\n",
                "        StudentTable.sname,\n",
                "        GroupTable.gname\n",
                "    FROM \n",
                "        StudentTable\n",
                "    INNER JOIN \n",
                "        GroupTable ON StudentTable.gid = GroupTable.gid AND GroupTable.gid = 1;\n",
                ""
            ],
            "metadata": {
                "language": "sql",
                "azdata_cell_guid": "7cbe9743-bfb7-478c-8a49-8b8a998e453e",
                "tags": [
                    "hide_input"
                ]
            },
            "outputs": [],
            "execution_count": null
        },
        {
            "cell_type": "code",
            "source": [
                "CREATE VIEW FavSubjectCount AS -- a view with SELECT statement that has a GROUP BY clause, operates on at least 2 different tables and uses at least one JOIN operator\n",
                "SELECT \n",
                "    FavSubjectTable.subjectName,\n",
                "    COUNT(*) AS StudentCount\n",
                "FROM \n",
                "    FavSubjectTable\n",
                "INNER JOIN \n",
                "    StudentTable ON StudentTable.sid = FavSubjectTable.sid\n",
                "GROUP BY \n",
                "    FavSubjectTable.subjectName;\n",
                "\n",
                ""
            ],
            "metadata": {
                "language": "sql",
                "azdata_cell_guid": "8909345b-7acd-488c-950b-c7270314d4cd",
                "tags": [
                    "hide_input"
                ]
            },
            "outputs": [],
            "execution_count": null
        },
        {
            "cell_type": "code",
            "source": [
                "CREATE TABLE Tables(\n",
                "    tid INT PRIMARY KEY,\n",
                "    tname VARCHAR(255) NOT NULL\n",
                ");"
            ],
            "metadata": {
                "azdata_cell_guid": "802e13cd-fc21-4fbc-8c09-87b1b68a3634",
                "language": "sql",
                "tags": [
                    "hide_input"
                ]
            },
            "outputs": [],
            "execution_count": null
        },
        {
            "cell_type": "code",
            "source": [
                "INSERT INTO Tables (tid, tname) VALUES \n",
                "    (1, 'GroupTable'),\n",
                "    (2, 'StudentTable'),\n",
                "    (3, 'FavSubjectTable');"
            ],
            "metadata": {
                "language": "sql",
                "azdata_cell_guid": "58fb7cff-d47f-4a5b-8f73-1beb647ffd1b",
                "tags": [
                    "hide_input"
                ]
            },
            "outputs": [],
            "execution_count": null
        },
        {
            "cell_type": "code",
            "source": [
                "CREATE TABLE Tests (\n",
                "    testId INT PRIMARY KEY,\n",
                "    testName VARCHAR(255),\n",
                ")"
            ],
            "metadata": {
                "language": "sql",
                "azdata_cell_guid": "59a8dd47-94b1-4ee1-8b23-bcaddbaddf4e",
                "tags": [
                    "hide_input"
                ]
            },
            "outputs": [],
            "execution_count": null
        },
        {
            "cell_type": "code",
            "source": [
                "INSERT INTO Tests VALUES \n",
                "    (1, 'Test 1');"
            ],
            "metadata": {
                "language": "sql",
                "azdata_cell_guid": "10929c3d-9d63-4bce-a69b-dd4ab24f2bc7",
                "tags": [
                    "hide_input"
                ]
            },
            "outputs": [],
            "execution_count": null
        },
        {
            "cell_type": "code",
            "source": [
                "CREATE TABLE TestTables (\n",
                "    testId INT FOREIGN KEY REFERENCES Tests(testId),\n",
                "    tableId INT FOREIGN KEY REFERENCES Tables(tid),\n",
                "    NoOfRows INT NOT NULL,\n",
                "    Position INT NOT NULL,\n",
                "    PRIMARY KEY (testId, tableId)\n",
                ");"
            ],
            "metadata": {
                "language": "sql",
                "azdata_cell_guid": "131898ed-6697-4719-bd5b-08ec0d8f0f50",
                "tags": [
                    "hide_input"
                ]
            },
            "outputs": [],
            "execution_count": null
        },
        {
            "cell_type": "code",
            "source": [
                "INSERT INTO TestTables VALUES \n",
                "    (1, 1, 500, 3),\n",
                "    (1, 2, 10000, 2),\n",
                "    (1, 3, 2000, 1);"
            ],
            "metadata": {
                "language": "sql",
                "azdata_cell_guid": "9a64d5ff-3b03-45ea-b35c-63fd9400b9a8",
                "tags": [
                    "hide_input"
                ]
            },
            "outputs": [],
            "execution_count": null
        },
        {
            "cell_type": "code",
            "source": [
                "CREATE TABLE Views (\n",
                "    viewId INT PRIMARY KEY,\n",
                "    viewName VARCHAR(255) NOT NULL\n",
                ");"
            ],
            "metadata": {
                "language": "sql",
                "azdata_cell_guid": "21ce3f1a-e552-428d-ad68-52550e7fd31f",
                "tags": [
                    "hide_input"
                ]
            },
            "outputs": [],
            "execution_count": null
        },
        {
            "cell_type": "code",
            "source": [
                "INSERT INTO Views VALUES\n",
                "    (1, 'ScienceAsFavSubject'),\n",
                "    (2, 'StudentsFromGroup1'),\n",
                "    (3, 'FavSubjectCount');"
            ],
            "metadata": {
                "language": "sql",
                "azdata_cell_guid": "cddecf34-43fd-4cf3-ab88-c8fc6ca77d80",
                "tags": [
                    "hide_input"
                ]
            },
            "outputs": [],
            "execution_count": null
        },
        {
            "cell_type": "code",
            "source": [
                "CREATE TABLE TestViews (\n",
                "    testId INT FOREIGN KEY REFERENCES Tests(testId),\n",
                "    viewId INT FOREIGN KEY REFERENCES Views(viewId),\n",
                ");"
            ],
            "metadata": {
                "language": "sql",
                "azdata_cell_guid": "4e2d3484-7fb7-4d0f-be85-ace30b6b843d",
                "tags": [
                    "hide_input"
                ]
            },
            "outputs": [],
            "execution_count": null
        },
        {
            "cell_type": "code",
            "source": [
                "INSERT INTO TestViews VALUES \n",
                "    (1, 1),\n",
                "    (1, 2),\n",
                "    (1, 3);"
            ],
            "metadata": {
                "language": "sql",
                "azdata_cell_guid": "ede34c82-3c41-4310-82ad-188ff69383a3",
                "tags": [
                    "hide_input"
                ]
            },
            "outputs": [],
            "execution_count": null
        },
        {
            "cell_type": "code",
            "source": [
                "CREATE TABLE TestRuns (\n",
                "    testRunId INT PRIMARY KEY IDENTITY(1, 1), -- Primary key which auto increments so we don't need to keep track of it\n",
                "    testId INT FOREIGN KEY REFERENCES Tests(testId),\n",
                "    StartAt DATETIME,\n",
                "    EndAt DATETIME,\n",
                "    duration AS DATEDIFF(SECOND, StartAt, EndAt)\n",
                ")"
            ],
            "metadata": {
                "language": "sql",
                "azdata_cell_guid": "5325e2a2-95f5-4d6e-afdc-578408269565",
                "tags": [
                    "hide_input"
                ]
            },
            "outputs": [],
            "execution_count": null
        },
        {
            "cell_type": "code",
            "source": [
                "CREATE TABLE TestRunTables (\n",
                "    testRunId INT PRIMARY KEY IDENTITY(1, 1),\n",
                "    testId INT FOREIGN KEY REFERENCES Tests(testId),\n",
                "    tableId INT FOREIGN KEY REFERENCES Tables(tid),\n",
                "    StartAt DATETIME,\n",
                "    EndAt DATETIME,\n",
                "    duration AS DATEDIFF(SECOND, StartAt, EndAt)\n",
                ")"
            ],
            "metadata": {
                "language": "sql",
                "azdata_cell_guid": "8bbbd376-8921-4fbb-a454-fba4ebd683d5",
                "tags": [
                    "hide_input"
                ]
            },
            "outputs": [],
            "execution_count": null
        },
        {
            "cell_type": "code",
            "source": [
                "CREATE TABLE TestRunViews (\n",
                "    testRunId INT PRIMARY KEY IDENTITY(1, 1),\n",
                "    testId INT FOREIGN KEY REFERENCES Tests(testId),\n",
                "    viewId INT FOREIGN KEY REFERENCES Views(viewId),\n",
                "    StartAt DATETIME,\n",
                "    EndAt DATETIME,\n",
                "    duration AS DATEDIFF(SECOND, StartAt, EndAt)\n",
                ")"
            ],
            "metadata": {
                "language": "sql",
                "azdata_cell_guid": "9f9f8775-ebda-4076-aed8-7b35e12caf55",
                "tags": [
                    "hide_input"
                ]
            },
            "outputs": [],
            "execution_count": null
        },
        {
            "cell_type": "code",
            "source": [
                "CREATE PROCEDURE RunTest (@testId INT)\n",
                "AS\n",
                "BEGIN\n",
                "    SET NOCOUNT ON;\n",
                "    DECLARE @testStartTime DATETIME;\n",
                "    DECLARE @testEndTime DATETIME;\n",
                "    SET @testStartTime = GETDATE(); -- start the timer for the whole test\n",
                "\n",
                "    -- DELETE the data from test T's tables, in the order specified by the Position field in TestTables\n",
                "    -- use a cursor to take each table name and perform a delete on it\n",
                "    DECLARE @tableId INT;\n",
                "    DECLARE @tableName VARCHAR(255);\n",
                "    DECLARE ClearTablesCursor CURSOR FOR\n",
                "        SELECT tableId \n",
                "        FROM TestTables \n",
                "        WHERE testId = @testId \n",
                "        ORDER BY Position ASC;\n",
                "    \n",
                "    OPEN ClearTablesCursor;\n",
                "    FETCH ClearTablesCursor INTO @tableId;\n",
                "    WHILE @@FETCH_STATUS = 0\n",
                "    BEGIN\n",
                "        -- based on the tabeId, get the table name from the Tables table\n",
                "        SELECT @tableName = tname FROM Tables WHERE tid = @tableId;\n",
                "        EXEC('DELETE FROM ' + @tableName); -- delete all rows from the table\n",
                "        FETCH ClearTablesCursor INTO @tableId;\n",
                "    END;\n",
                "    CLOSE ClearTablesCursor; -- close the cursor\n",
                "    DEALLOCATE ClearTablesCursor; -- deallocate the cursor and all of its resources\n",
                "\n",
                "    -- INSERT data into the test T's tables, in the reverse deletion order\n",
                "    -- the number of records to insert into each table is stored in the NoOfRows field in the TestTables table\n",
                "    -- use a cursor to go in reverse order and insert the data\n",
                "    DECLARE @NoOfRows INT;\n",
                "    -- @tableId is already declared above\n",
                "    -- @tableName is already declared above\n",
                "    DECLARE @insertStartAt DATETIME;\n",
                "    DECLARE @insertEndAt DATETIME;\n",
                "    DECLARE InsertTablesCursor CURSOR FOR\n",
                "        SELECT tableId, NoOfRows\n",
                "        FROM TestTables \n",
                "        WHERE testId = @testId \n",
                "        ORDER BY Position DESC;\n",
                "    \n",
                "    OPEN InsertTablesCursor;\n",
                "    FETCH InsertTablesCursor INTO @tableId, @NoOfRows;\n",
                "    WHILE @@FETCH_STATUS = 0\n",
                "    BEGIN\n",
                "        SET @insertStartAt = GETDATE(); -- start the timer for the insert\n",
                "        EXEC InsertIntoTable @tableId, @NoOfRows; -- insert the data into the table\n",
                "        SET @insertEndAt = GETDATE(); -- end the timer for the insert\n",
                "        INSERT INTO TestRunTables (testId, tableId, StartAt, EndAt) VALUES (@testId, @tableId, @insertStartAt, @insertEndAt); -- record the insert, duration will be computed by itself\n",
                "        FETCH InsertTablesCursor INTO @tableId, @NoOfRows;\n",
                "    END\n",
                "    CLOSE InsertTablesCursor; -- close the cursor\n",
                "    DEALLOCATE InsertTablesCursor; -- deallocate the cursor and all of its resources\n",
                "\n",
                "    -- EVALUATE the test T's VIEWS, no order specified\n",
                "    -- use a cursor to take each view name and perform a select on it\n",
                "    DECLARE @viewId INT;\n",
                "    DECLARE @viewName VARCHAR(255);\n",
                "    DECLARE @viewStartTime DATETIME;\n",
                "    DECLARE @viewEndTime DATETIME;\n",
                "    DECLARE EvaluateViewsCursor CURSOR FOR\n",
                "        SELECT viewId \n",
                "        FROM TestViews \n",
                "        WHERE testId = @testId;\n",
                "    \n",
                "    OPEN EvaluateViewsCursor;\n",
                "    FETCH EvaluateViewsCursor INTO @viewId;\n",
                "    WHILE @@FETCH_STATUS = 0\n",
                "    BEGIN\n",
                "        -- based on the viewId, get the view name from the Views table\n",
                "        SELECT @viewName = viewName FROM Views WHERE viewId = @viewId;\n",
                "        SET @viewStartTime = GETDATE(); -- start the timer for the view\n",
                "        EXEC('SELECT * FROM ' + @viewName); -- select all rows from the view\n",
                "        SET @viewEndTime = GETDATE(); -- end the timer for the view\n",
                "        INSERT INTO TestRunViews (testId, viewId, StartAt, EndAt) VALUES (@testId, @viewId, @viewStartTime, @viewEndTime); -- record the view, duration will be computed by itself\n",
                "        FETCH EvaluateViewsCursor INTO @viewId;\n",
                "    END;\n",
                "    CLOSE EvaluateViewsCursor; -- close the cursor\n",
                "    DEALLOCATE EvaluateViewsCursor; -- deallocate the cursor and all of its resources\n",
                "\n",
                "    SET @testEndTime = GETDATE(); -- end the timer for the whole test\n",
                "    INSERT INTO TestRuns (testId, StartAt, EndAt) VALUES (@testId, @testStartTime, @testEndTime); -- record the test run, duration will be computed by itself\n",
                "    PRINT 'Test completed successfully';\n",
                "END;"
            ],
            "metadata": {
                "language": "sql",
                "azdata_cell_guid": "438da911-25ff-4fca-9a48-ec20a122fff6",
                "tags": [
                    "hide_input"
                ]
            },
            "outputs": [],
            "execution_count": null
        },
        {
            "cell_type": "code",
            "source": [
                "EXEC RunTest 1;"
            ],
            "metadata": {
                "azdata_cell_guid": "403ef20f-961b-4b3a-a45b-919240321890",
                "language": "sql"
            },
            "outputs": [],
            "execution_count": null
        },
        {
            "cell_type": "code",
            "source": [
                "select * from TestRuns;"
            ],
            "metadata": {
                "azdata_cell_guid": "2f3cbc4e-b223-40d1-9b5b-75d6c4cde301",
                "language": "sql"
            },
            "outputs": [],
            "execution_count": null
        },
        {
            "cell_type": "code",
            "source": [
                "select * from TestRunViews; -- get the individual view timings"
            ],
            "metadata": {
                "language": "sql",
                "azdata_cell_guid": "ae4cccef-276e-4751-90c6-fa9ccf38a440"
            },
            "outputs": [],
            "execution_count": null
        },
        {
            "cell_type": "code",
            "source": [
                "select * from TestRunTables; -- get the individual insert timings"
            ],
            "metadata": {
                "language": "sql",
                "azdata_cell_guid": "7968260f-ce2e-4d06-a8c8-c53aec35c34d"
            },
            "outputs": [],
            "execution_count": null
        }
    ]
}