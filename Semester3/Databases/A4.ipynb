{
    "metadata": {
        "kernelspec": {
            "name": "SQL",
            "display_name": "SQL",
            "language": "sql"
        },
        "language_info": {
            "name": "sql",
            "version": ""
        }
    },
    "nbformat_minor": 2,
    "nbformat": 4,
    "cells": [
        {
            "cell_type": "code",
            "source": [
                "CREATE DATABASE A4;"
            ],
            "metadata": {
                "azdata_cell_guid": "8d29c2d7-a058-40dd-afa6-8bb4f2c7fcbc",
                "language": "sql"
            },
            "outputs": [],
            "execution_count": null
        },
        {
            "cell_type": "code",
            "source": [
                "use A4;"
            ],
            "metadata": {
                "azdata_cell_guid": "9c8d4dce-9176-40ff-8594-e4a44672dd1f",
                "language": "sql"
            },
            "outputs": [],
            "execution_count": null
        },
        {
            "cell_type": "code",
            "source": [
                "CREATE TABLE GroupTable(\n",
                "    gid INT PRIMARY KEY,\n",
                "    gname VARCHAR(255) NOT NULL\n",
                ");\n",
                ""
            ],
            "metadata": {
                "azdata_cell_guid": "1b369717-6e93-46b7-9ea9-a8b4ad72f933",
                "language": "sql",
                "tags": [
                    "hide_input"
                ]
            },
            "outputs": [],
            "execution_count": null
        },
        {
            "cell_type": "code",
            "source": [
                "CREATE TABLE StudentTable(\n",
                "    sid INT PRIMARY KEY,\n",
                "    sname VARCHAR(30),\n",
                "    gid INT FOREIGN KEY REFERENCES GroupTable(gid)\n",
                ");"
            ],
            "metadata": {
                "language": "sql",
                "azdata_cell_guid": "231df51a-cc75-481d-ac96-81f291ad7206",
                "tags": [
                    "hide_input"
                ]
            },
            "outputs": [],
            "execution_count": null
        },
        {
            "cell_type": "code",
            "source": [
                "CREATE TABLE FavSubjectTable(\n",
                "    sid INT FOREIGN KEY REFERENCES StudentTable(sid),\n",
                "    gid INT FOREIGN KEY REFERENCES GroupTable(gid),\n",
                "    subjectName VARCHAR(50),\n",
                "    PRIMARY KEY(sid, gid)\n",
                ")"
            ],
            "metadata": {
                "azdata_cell_guid": "53d12eea-7969-4d69-a0dc-6668999505ce",
                "language": "sql",
                "tags": [
                    "hide_input"
                ]
            },
            "outputs": [],
            "execution_count": null
        },
        {
            "cell_type": "code",
            "source": [
                "CREATE PROCEDURE InsertGroups -- insert 500 groups\n",
                "AS\n",
                "BEGIN\n",
                "    SET NOCOUNT ON; -- mute messages\n",
                "    DECLARE @i INT = 1;\n",
                "    -- Loop to insert 200 groups\n",
                "    WHILE @i <= 500 \n",
                "    BEGIN\n",
                "        -- Insert statement\n",
                "        INSERT INTO GroupTable (gid, gname) VALUES (\n",
                "            @i,\n",
                "            CONCAT('Group_', @i) -- Generating a unique name \"Group_1\", \"Group_2\", etc.\n",
                "        ) \n",
                "        -- Increment the student ID counter\n",
                "        SET @i = @i + 1;\n",
                "    END;\n",
                "END;"
            ],
            "metadata": {
                "azdata_cell_guid": "3bfbf2ab-f730-4f3a-b052-20575bb87cc6",
                "language": "sql",
                "tags": [
                    "hide_input"
                ]
            },
            "outputs": [],
            "execution_count": null
        },
        {
            "cell_type": "code",
            "source": [
                "CREATE PROCEDURE InsertStudents -- insert 10.000 students\n",
                "AS \n",
                "BEGIN\n",
                "    SET NOCOUNT ON; -- mute messages\n",
                "    DECLARE @i INT = 1;\n",
                "    DECLARE @groupNum INT = 1;\n",
                "    -- Loop to insert 10,000 students\n",
                "    WHILE @i <= 10000 \n",
                "    BEGIN\n",
                "        -- Insert statement\n",
                "        INSERT INTO StudentTable (sid, sname, gid) VALUES (\n",
                "            @i,\n",
                "            CONCAT('Student_', @i),  -- Generating a unique name \"Student_1\", \"Student_2\", etc.\n",
                "            @groupNum\n",
                "        );\n",
                "        \n",
                "        -- Increment the student ID counter\n",
                "        SET @i = @i + 1;\n",
                "\n",
                "        -- Cycle through group IDs from 1 to 500\n",
                "        SET @groupNum = @groupNum + 1;\n",
                "        IF @groupNum > 500 \n",
                "        BEGIN\n",
                "            SET @groupNum = 1;\n",
                "        END;\n",
                "    END;\n",
                "END;"
            ],
            "metadata": {
                "language": "sql",
                "azdata_cell_guid": "d18998ea-7124-4a74-9265-db5092beab5a",
                "tags": [
                    "hide_input"
                ]
            },
            "outputs": [],
            "execution_count": null
        },
        {
            "cell_type": "code",
            "source": [
                "CREATE PROCEDURE InsertFavSubjects -- insert 2.000 fav subjects for the first 2.000 students\n",
                "AS\n",
                "BEGIN\n",
                "    SET NOCOUNT ON; -- mute messages\n",
                "    DECLARE @i INT = 1;\n",
                "    DECLARE @groupNum INT = 1;\n",
                "    -- Loop to insert 10,000 students\n",
                "    WHILE @i <= 2000\n",
                "    BEGIN\n",
                "        DECLARE @subjectName VARCHAR(50);\n",
                "        IF @i % 4 = 0 \n",
                "        BEGIN\n",
                "            SET @subjectName = 'Math';\n",
                "        END\n",
                "        ELSE IF @i % 4 = 1 \n",
                "        BEGIN\n",
                "            SET @subjectName = 'English';\n",
                "        END\n",
                "        ELSE IF @i % 4 = 2\n",
                "        BEGIN\n",
                "            SET @subjectName = 'History';\n",
                "        END\n",
                "        ELSE IF @i % 4 = 3\n",
                "        BEGIN\n",
                "            SET @subjectName = 'Science';\n",
                "        END;\n",
                "        \n",
                "        -- Insert statement\n",
                "        INSERT INTO FavSubjectTable (sid, gid, subjectName) VALUES (\n",
                "            @i,\n",
                "            @groupNum,\n",
                "            @subjectName  -- cycle through Math, English, History, Science\n",
                "        );\n",
                "        \n",
                "        -- Increment the student ID counter\n",
                "        SET @i = @i + 1;\n",
                "\n",
                "        -- Cycle through group IDs from 1 to 500\n",
                "        SET @groupNum = @groupNum + 1;\n",
                "        IF @groupNum > 500\n",
                "        BEGIN\n",
                "            SET @groupNum = 1;\n",
                "        END;\n",
                "    END;\n",
                "END;"
            ],
            "metadata": {
                "language": "sql",
                "azdata_cell_guid": "ea489af8-b5a6-436c-ae34-ba1474597ee3",
                "tags": [
                    "hide_input"
                ]
            },
            "outputs": [],
            "execution_count": null
        },
        {
            "cell_type": "code",
            "source": [
                "CREATE PROCEDURE InsertAll -- we will not use it, just made it for better convenience\n",
                "AS\n",
                "BEGIN\n",
                "    SET NOCOUNT ON; -- mute messages\n",
                "    EXEC InsertGroups;\n",
                "    EXEC InsertStudents;\n",
                "    EXEC InsertFavSubjects;\n",
                "END;"
            ],
            "metadata": {
                "language": "sql",
                "azdata_cell_guid": "5d4df437-b390-4aef-abce-09d16f960b22",
                "tags": [
                    "hide_input"
                ]
            },
            "outputs": [],
            "execution_count": null
        },
        {
            "cell_type": "code",
            "source": [
                "CREATE PROCEDURE ResetTables\n",
                "AS\n",
                "BEGIN\n",
                "    SET NOCOUNT ON; -- mute messages\n",
                "    DELETE FROM FavSubjectTable;    \n",
                "    DELETE FROM StudentTable;\n",
                "    DELETE FROM GroupTable;\n",
                "    \n",
                "END;"
            ],
            "metadata": {
                "azdata_cell_guid": "7eaa7e0d-8a89-4044-8a86-37510081a6bb",
                "language": "sql",
                "tags": [
                    "hide_input"
                ]
            },
            "outputs": [],
            "execution_count": null
        },
        {
            "cell_type": "code",
            "source": [
                "CREATE VIEW ScienceAsFavSubject AS -- view with a SELECT statement operating on one table\n",
                "    SELECT sid, gid FROM FavSubjectTable WHERE subjectName = 'Science';"
            ],
            "metadata": {
                "language": "sql",
                "azdata_cell_guid": "1833e640-ddfb-4ed2-9c3e-b7d8a0271f70",
                "tags": [
                    "hide_input"
                ]
            },
            "outputs": [],
            "execution_count": null
        },
        {
            "cell_type": "code",
            "source": [
                "CREATE VIEW StudentsFromGroup1 AS -- view with a SELECT statement that operates on at least 2 different tables and contains at least one JOIN operator\n",
                "    SELECT \n",
                "        StudentTable.sid,\n",
                "        StudentTable.sname,\n",
                "        GroupTable.gname\n",
                "    FROM \n",
                "        StudentTable\n",
                "    INNER JOIN \n",
                "        GroupTable ON StudentTable.gid = GroupTable.gid AND GroupTable.gid = 1;\n",
                ""
            ],
            "metadata": {
                "language": "sql",
                "azdata_cell_guid": "7cbe9743-bfb7-478c-8a49-8b8a998e453e",
                "tags": [
                    "hide_input"
                ]
            },
            "outputs": [],
            "execution_count": null
        },
        {
            "cell_type": "code",
            "source": [
                "CREATE VIEW FavSubjectCount AS -- a view with SELECT statement that has a GROUP BY clause, operates on at least 2 different tables and uses at least one JOIN operator\n",
                "SELECT \n",
                "    FavSubjectTable.subjectName,\n",
                "    COUNT(*) AS StudentCount\n",
                "FROM \n",
                "    FavSubjectTable\n",
                "INNER JOIN \n",
                "    StudentTable ON StudentTable.sid = FavSubjectTable.sid\n",
                "GROUP BY \n",
                "    FavSubjectTable.subjectName;\n",
                "\n",
                ""
            ],
            "metadata": {
                "language": "sql",
                "azdata_cell_guid": "8909345b-7acd-488c-950b-c7270314d4cd",
                "tags": [
                    "hide_input"
                ]
            },
            "outputs": [],
            "execution_count": null
        },
        {
            "cell_type": "code",
            "source": [
                "CREATE TABLE Tables(\n",
                "    tid INT PRIMARY KEY,\n",
                "    tname VARCHAR(255) NOT NULL\n",
                ");"
            ],
            "metadata": {
                "azdata_cell_guid": "802e13cd-fc21-4fbc-8c09-87b1b68a3634",
                "language": "sql",
                "tags": [
                    "hide_input"
                ]
            },
            "outputs": [],
            "execution_count": null
        },
        {
            "cell_type": "code",
            "source": [
                "INSERT INTO Tables (tid, tname) VALUES \n",
                "    (1, 'GroupTable'),\n",
                "    (2, 'StudentTable'),\n",
                "    (3, 'FavSubjectTable');"
            ],
            "metadata": {
                "language": "sql",
                "azdata_cell_guid": "58fb7cff-d47f-4a5b-8f73-1beb647ffd1b",
                "tags": [
                    "hide_input"
                ]
            },
            "outputs": [],
            "execution_count": null
        },
        {
            "cell_type": "code",
            "source": [
                "CREATE TABLE Tests (\n",
                "    tid INT PRIMARY KEY,\n",
                "    executionTime DATETIME,\n",
                "    testName VARCHAR(20),\n",
                "    testDesc VARCHAR(255),\n",
                ")"
            ],
            "metadata": {
                "language": "sql",
                "azdata_cell_guid": "59a8dd47-94b1-4ee1-8b23-bcaddbaddf4e",
                "tags": []
            },
            "outputs": [],
            "execution_count": null
        }
    ]
}